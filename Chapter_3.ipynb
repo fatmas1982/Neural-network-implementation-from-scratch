{
  "nbformat": 4,
  "nbformat_minor": 0,
  "metadata": {
    "colab": {
      "provenance": [],
      "collapsed_sections": [],
      "authorship_tag": "ABX9TyNWZAwnghqnE6cHsbaz0wF8",
      "include_colab_link": true
    },
    "kernelspec": {
      "name": "python3",
      "display_name": "Python 3"
    },
    "language_info": {
      "name": "python"
    }
  },
  "cells": [
    {
      "cell_type": "markdown",
      "metadata": {
        "id": "view-in-github",
        "colab_type": "text"
      },
      "source": [
        "<a href=\"https://colab.research.google.com/github/fatmas1982/Neural-network-implementation-from-scratch/blob/main/Chapter_3.ipynb\" target=\"_parent\"><img src=\"https://colab.research.google.com/assets/colab-badge.svg\" alt=\"Open In Colab\"/></a>"
      ]
    },
    {
      "cell_type": "markdown",
      "source": [
        "##**Adding Layers**"
      ],
      "metadata": {
        "id": "PfKRbgKH7jzP"
      }
    },
    {
      "cell_type": "code",
      "execution_count": null,
      "metadata": {
        "id": "GgxeBzfowlTh"
      },
      "outputs": [],
      "source": [
        "import numpy as np"
      ]
    },
    {
      "cell_type": "code",
      "source": [
        "inputs=[[1,2,3],[4,2,6],[3,8,9],[3,8,9],[4,2,6]] #x,y,x..etc \n",
        "weights=[[1,2,3],[4,5,6],[7,8,9]]\n",
        "bias=[1,2,3]"
      ],
      "metadata": {
        "id": "ObdiIhRDwqki"
      },
      "execution_count": null,
      "outputs": []
    },
    {
      "cell_type": "code",
      "source": [
        "Layer1_output=np.dot(inputs,np.transpose(weights))#+bias"
      ],
      "metadata": {
        "id": "TnMwPG7nwueN"
      },
      "execution_count": null,
      "outputs": []
    },
    {
      "cell_type": "code",
      "source": [
        "Layer1_output"
      ],
      "metadata": {
        "colab": {
          "base_uri": "https://localhost:8080/"
        },
        "id": "FEXXX6czw2yv",
        "outputId": "25d04126-8116-410e-a405-d0ef55cf2c20"
      },
      "execution_count": null,
      "outputs": [
        {
          "output_type": "execute_result",
          "data": {
            "text/plain": [
              "array([[ 14,  32,  50],\n",
              "       [ 26,  62,  98],\n",
              "       [ 46, 106, 166],\n",
              "       [ 46, 106, 166],\n",
              "       [ 26,  62,  98]])"
            ]
          },
          "metadata": {},
          "execution_count": 12
        }
      ]
    },
    {
      "cell_type": "code",
      "source": [
        "weights2=[[1,2,3],[4,5,6],[1,2,3],[7,8,9]]\n",
        "bias2=[1,2,3,4]"
      ],
      "metadata": {
        "id": "8zSAlFz6xOzv"
      },
      "execution_count": null,
      "outputs": []
    },
    {
      "cell_type": "code",
      "source": [
        "Layer2_output=np.dot(Layer1_output,np.transpose(weights2))+bias2"
      ],
      "metadata": {
        "id": "sA74S8lGxT64"
      },
      "execution_count": null,
      "outputs": []
    },
    {
      "cell_type": "code",
      "source": [
        "Layer2_output"
      ],
      "metadata": {
        "colab": {
          "base_uri": "https://localhost:8080/"
        },
        "id": "youoG-bExWFh",
        "outputId": "9eb5b84f-b475-49e4-e363-ecc99de6204e"
      },
      "execution_count": null,
      "outputs": [
        {
          "output_type": "execute_result",
          "data": {
            "text/plain": [
              "array([[ 229,  518,  231,  808],\n",
              "       [ 445, 1004,  447, 1564],\n",
              "       [ 757, 1712,  759, 2668],\n",
              "       [ 757, 1712,  759, 2668],\n",
              "       [ 445, 1004,  447, 1564]])"
            ]
          },
          "metadata": {},
          "execution_count": 15
        }
      ]
    },
    {
      "cell_type": "markdown",
      "source": [
        "##**Training Data**"
      ],
      "metadata": {
        "id": "TVA8zjEUyL19"
      }
    },
    {
      "cell_type": "code",
      "source": [
        "!pip install nnfs"
      ],
      "metadata": {
        "colab": {
          "base_uri": "https://localhost:8080/"
        },
        "id": "-SCFnsImxXlp",
        "outputId": "db62018a-2a7b-415d-ac17-71c2a4c74d8b"
      },
      "execution_count": null,
      "outputs": [
        {
          "output_type": "stream",
          "name": "stdout",
          "text": [
            "Looking in indexes: https://pypi.org/simple, https://us-python.pkg.dev/colab-wheels/public/simple/\n",
            "Collecting nnfs\n",
            "  Downloading nnfs-0.5.1-py3-none-any.whl (9.1 kB)\n",
            "Requirement already satisfied: numpy in /usr/local/lib/python3.7/dist-packages (from nnfs) (1.21.6)\n",
            "Installing collected packages: nnfs\n",
            "Successfully installed nnfs-0.5.1\n"
          ]
        }
      ]
    },
    {
      "cell_type": "code",
      "source": [
        "from nnfs.datasets import spiral_data\n",
        "#The ​spiral_data​ function was slightly modified from \n",
        "#https://cs231n.github.io/neural-networks-case-study/​, \n",
        "#which is a great supplementary resource for this topic."
      ],
      "metadata": {
        "id": "4_oNnGjYyRYe"
      },
      "execution_count": null,
      "outputs": []
    },
    {
      "cell_type": "code",
      "source": [
        "import nnfs"
      ],
      "metadata": {
        "id": "edIGaeEhyedR"
      },
      "execution_count": null,
      "outputs": []
    },
    {
      "cell_type": "code",
      "source": [
        "'''\n",
        "The ​nnfs.init()​ does three things: it sets the random seed to 0 (by the default), creates a\n",
        "float32​ dtype default, and overrides the original dot product from NumPy. All of these are meant\n",
        "to ensure repeatable results for following along.\n",
        "'''\n",
        "nnfs.init()"
      ],
      "metadata": {
        "id": "LNhdAjl2y7Ro"
      },
      "execution_count": null,
      "outputs": []
    },
    {
      "cell_type": "code",
      "source": [
        "import matplotlib.pyplot as plt\n",
        "X,y=spiral_data(samples=3,classes=3)\n",
        "plt.scatter(X[:,0],X[:,1])\n",
        "plt.show()"
      ],
      "metadata": {
        "colab": {
          "base_uri": "https://localhost:8080/",
          "height": 265
        },
        "id": "vv7c-R3Zy-lZ",
        "outputId": "01e005be-37fc-49fb-fcd5-97d308f1db9f"
      },
      "execution_count": null,
      "outputs": [
        {
          "output_type": "display_data",
          "data": {
            "text/plain": [
              "<Figure size 432x288 with 1 Axes>"
            ],
            "image/png": "[encoded data removed]"
          },
          "metadata": {
            "needs_background": "light"
          }
        }
      ]
    },
    {
      "cell_type": "code",
      "source": [
        "X.shape"
      ],
      "metadata": {
        "colab": {
          "base_uri": "https://localhost:8080/"
        },
        "id": "RF2SFpI80ghc",
        "outputId": "428b3600-f970-42ef-c187-2dd4afb646e9"
      },
      "execution_count": null,
      "outputs": [
        {
          "output_type": "execute_result",
          "data": {
            "text/plain": [
              "(9, 2)"
            ]
          },
          "metadata": {},
          "execution_count": 21
        }
      ]
    },
    {
      "cell_type": "code",
      "source": [
        "X"
      ],
      "metadata": {
        "colab": {
          "base_uri": "https://localhost:8080/"
        },
        "id": "4HAgR4643Cru",
        "outputId": "f222674a-4b51-4068-efc4-6eb1733a2b03"
      },
      "execution_count": null,
      "outputs": [
        {
          "output_type": "execute_result",
          "data": {
            "text/plain": [
              "array([[ 0.        ,  0.        ],\n",
              "       [-0.44170892,  0.23429306],\n",
              "       [-0.8745907 , -0.48486194],\n",
              "       [-0.        ,  0.        ],\n",
              "       [-0.11195075, -0.48730588],\n",
              "       [ 0.6145419 ,  0.78888416],\n",
              "       [ 0.        , -0.        ],\n",
              "       [-0.10345709,  0.48917955],\n",
              "       [-0.9946734 ,  0.10307696]], dtype=float32)"
            ]
          },
          "metadata": {},
          "execution_count": 22
        }
      ]
    },
    {
      "cell_type": "code",
      "source": [
        "y"
      ],
      "metadata": {
        "colab": {
          "base_uri": "https://localhost:8080/"
        },
        "id": "9R3M1GMozw3F",
        "outputId": "336160b6-a2ed-4894-d44f-b46f16700aba"
      },
      "execution_count": null,
      "outputs": [
        {
          "output_type": "execute_result",
          "data": {
            "text/plain": [
              "array([0, 0, 0, 1, 1, 1, 2, 2, 2], dtype=uint8)"
            ]
          },
          "metadata": {},
          "execution_count": 23
        }
      ]
    },
    {
      "cell_type": "code",
      "source": [
        "#cmap is an abbreviation to color map, brg for blue , red, green )\n",
        "#c is an array-like or list of colors or color, optional\n",
        "#https://matplotlib.org/stable/api/_as_gen/matplotlib.pyplot.scatter.html\n",
        "\n",
        "plt.scatter(X[:,0],X[:,1],c=y,cmap='brg')\n",
        "plt.show()\n",
        "\n",
        "'''\n",
        "In the data above, each dot is the feature, and its coordinates are the samples that form the dataset. The “classification” for\n",
        "that dot has to do with which spiral it is a part of, depicted by blue, green, or red color in the\n",
        "next image. These colors would then be assigned a class number for the model to fit to, like 0,\n",
        "1, and 2.\n",
        "'''"
      ],
      "metadata": {
        "colab": {
          "base_uri": "https://localhost:8080/",
          "height": 318
        },
        "id": "SinBaHjd0N9k",
        "outputId": "c210a5a2-a99e-4ce0-982b-a4f7c3574123"
      },
      "execution_count": null,
      "outputs": [
        {
          "output_type": "display_data",
          "data": {
            "text/plain": [
              "<Figure size 432x288 with 1 Axes>"
            ],
            "image/png": "[encoded data removed]"
          },
          "metadata": {
            "needs_background": "light"
          }
        },
        {
          "output_type": "execute_result",
          "data": {
            "text/plain": [
              "'\\nIn the data above, each dot is the feature, and its coordinates are the samples that form the dataset. The “classification” for\\nthat dot has to do with which spiral it is a part of, depicted by blue, green, or red color in the\\nnext image. These colors would then be assigned a class number for the model to fit to, like 0,\\n1, and 2.\\n'"
            ],
            "application/vnd.google.colaboratory.intrinsic+json": {
              "type": "string"
            }
          },
          "metadata": {},
          "execution_count": 66
        }
      ]
    },
    {
      "cell_type": "markdown",
      "source": [
        "##**Dense Layer Class**"
      ],
      "metadata": {
        "id": "k4F67sbf4NQf"
      }
    },
    {
      "cell_type": "code",
      "source": [
        "!pip install nnfs"
      ],
      "metadata": {
        "colab": {
          "base_uri": "https://localhost:8080/"
        },
        "id": "G6rqYJg3vgPg",
        "outputId": "b22fd785-c79a-4a05-9acf-6fc18060e9d4"
      },
      "execution_count": 1,
      "outputs": [
        {
          "output_type": "stream",
          "name": "stdout",
          "text": [
            "Looking in indexes: https://pypi.org/simple, https://us-python.pkg.dev/colab-wheels/public/simple/\n",
            "Collecting nnfs\n",
            "  Downloading nnfs-0.5.1-py3-none-any.whl (9.1 kB)\n",
            "Requirement already satisfied: numpy in /usr/local/lib/python3.7/dist-packages (from nnfs) (1.21.6)\n",
            "Installing collected packages: nnfs\n",
            "Successfully installed nnfs-0.5.1\n"
          ]
        }
      ]
    },
    {
      "cell_type": "code",
      "source": [
        "import numpy as np"
      ],
      "metadata": {
        "id": "7TVHZKF5wd5X"
      },
      "execution_count": 2,
      "outputs": []
    },
    {
      "cell_type": "code",
      "source": [
        "import nnfs"
      ],
      "metadata": {
        "id": "3-s-9iSDvjeo"
      },
      "execution_count": 3,
      "outputs": []
    },
    {
      "cell_type": "code",
      "source": [
        "from nnfs.datasets import spiral_data"
      ],
      "metadata": {
        "id": "soVsIGVbvzEQ"
      },
      "execution_count": 4,
      "outputs": []
    },
    {
      "cell_type": "code",
      "source": [
        "import matplotlib.pyplot as plt\n",
        "%matplotlib inline"
      ],
      "metadata": {
        "id": "wP_m933AxDJ4"
      },
      "execution_count": 9,
      "outputs": []
    },
    {
      "cell_type": "code",
      "source": [
        "nnfs.init()"
      ],
      "metadata": {
        "id": "yq2C-NNZvnBx"
      },
      "execution_count": 10,
      "outputs": []
    },
    {
      "cell_type": "code",
      "source": [
        "weights = 0.01* np.random.rand(2,4)"
      ],
      "metadata": {
        "id": "eLUSeRK5wHuI"
      },
      "execution_count": 56,
      "outputs": []
    },
    {
      "cell_type": "code",
      "source": [
        "weights"
      ],
      "metadata": {
        "colab": {
          "base_uri": "https://localhost:8080/"
        },
        "id": "qzDP05a0wida",
        "outputId": "44e652af-c89c-4335-d64d-fe47a167186a"
      },
      "execution_count": 57,
      "outputs": [
        {
          "output_type": "execute_result",
          "data": {
            "text/plain": [
              "array([[0.00517309, 0.00424089, 0.00554688, 0.00287052],\n",
              "       [0.00706575, 0.00414857, 0.00360546, 0.00828657]])"
            ]
          },
          "metadata": {},
          "execution_count": 57
        }
      ]
    },
    {
      "cell_type": "code",
      "source": [
        "biases= np.zeros((1,4))"
      ],
      "metadata": {
        "id": "LFDJJRZv2m4H"
      },
      "execution_count": 58,
      "outputs": []
    },
    {
      "cell_type": "code",
      "source": [
        "biases"
      ],
      "metadata": {
        "colab": {
          "base_uri": "https://localhost:8080/"
        },
        "id": "geEa1I5P2pzI",
        "outputId": "c94d036c-cb48-47dd-b24e-2f0c244eeda1"
      },
      "execution_count": 59,
      "outputs": [
        {
          "output_type": "execute_result",
          "data": {
            "text/plain": [
              "array([[0., 0., 0., 0.]], dtype=float32)"
            ]
          },
          "metadata": {},
          "execution_count": 59
        }
      ]
    },
    {
      "cell_type": "code",
      "source": [
        "class Layer_Dense:\n",
        "    def __init__(self, n_inputs,n_neurons):\n",
        "        self.weights = 0.01* np.random.rand(n_inputs,n_neurons)\n",
        "        self.biases= np.zeros((1,n_neurons))\n",
        "    def forward(self,inputs):\n",
        "        self.output=np.dot(inputs,self.weights)+self.biases\n",
        "        \n",
        "    "
      ],
      "metadata": {
        "id": "dLw7vmYi0n9t"
      },
      "execution_count": 60,
      "outputs": []
    },
    {
      "cell_type": "code",
      "source": [
        "from nnfs.datasets import spiral_data"
      ],
      "metadata": {
        "id": "s_u4yGMR4Nhb"
      },
      "execution_count": 43,
      "outputs": []
    },
    {
      "cell_type": "code",
      "source": [
        "import matplotlib.pyplot as plt\n",
        "X,y=spiral_data(samples=100,classes=3)\n",
        "\n",
        "plt.scatter(X[:,0],X[:,1],c=y,cmap='brg')\n",
        "\n",
        "plt.show()"
      ],
      "metadata": {
        "colab": {
          "base_uri": "https://localhost:8080/",
          "height": 265
        },
        "id": "qDAflCow4TZK",
        "outputId": "9e82db8d-040f-40e3-a5cb-0686219b2301"
      },
      "execution_count": 17,
      "outputs": [
        {
          "output_type": "display_data",
          "data": {
            "text/plain": [
              "<Figure size 432x288 with 1 Axes>"
            ],
            "image/png": "[encoded data removed]"
          },
          "metadata": {
            "needs_background": "light"
          }
        }
      ]
    },
    {
      "cell_type": "code",
      "source": [
        "X.shape"
      ],
      "metadata": {
        "colab": {
          "base_uri": "https://localhost:8080/"
        },
        "id": "xLtixUK_48IS",
        "outputId": "8b78f997-ce5e-4987-f584-7ef6297a78c9"
      },
      "execution_count": 61,
      "outputs": [
        {
          "output_type": "execute_result",
          "data": {
            "text/plain": [
              "(300, 2)"
            ]
          },
          "metadata": {},
          "execution_count": 61
        }
      ]
    },
    {
      "cell_type": "code",
      "source": [
        "y.shape"
      ],
      "metadata": {
        "colab": {
          "base_uri": "https://localhost:8080/"
        },
        "id": "fkFWrO7G4qqx",
        "outputId": "d356d4c1-1127-4b24-85ed-3511b3ae72a6"
      },
      "execution_count": 19,
      "outputs": [
        {
          "output_type": "execute_result",
          "data": {
            "text/plain": [
              "(300,)"
            ]
          },
          "metadata": {},
          "execution_count": 19
        }
      ]
    },
    {
      "cell_type": "code",
      "source": [
        "X"
      ],
      "metadata": {
        "colab": {
          "base_uri": "https://localhost:8080/"
        },
        "id": "2cRmq79N4_nA",
        "outputId": "6f92b9a4-003a-4755-d84e-cdd73752d88f"
      },
      "execution_count": 20,
      "outputs": [
        {
          "output_type": "execute_result",
          "data": {
            "text/plain": [
              "array([[-0.        ,  0.        ],\n",
              "       [ 0.00304588,  0.00963084],\n",
              "       [ 0.00546717,  0.01944818],\n",
              "       [ 0.02598136,  0.01559623],\n",
              "       [ 0.02854599,  0.02859393],\n",
              "       [ 0.02707907,  0.04263196],\n",
              "       [ 0.0446409 ,  0.04099127],\n",
              "       [ 0.05422122,  0.04538225],\n",
              "       [ 0.08079815,  0.00126669],\n",
              "       [ 0.06562524,  0.06291097],\n",
              "       [ 0.09287196,  0.03972201],\n",
              "       [ 0.07021637,  0.08611237],\n",
              "       [-0.00779748,  0.12096106],\n",
              "       [ 0.13099936, -0.00907232],\n",
              "       [ 0.13607888, -0.03847722],\n",
              "       [ 0.13792805,  0.06271119],\n",
              "       [ 0.06152735, -0.1494462 ],\n",
              "       [ 0.14355896,  0.09422107],\n",
              "       [ 0.17521822, -0.04854302],\n",
              "       [ 0.18572266, -0.04837427],\n",
              "       [ 0.07022047, -0.18942346],\n",
              "       [ 0.05978217, -0.20352273],\n",
              "       [ 0.16575728, -0.14801094],\n",
              "       [ 0.13673665, -0.1878222 ],\n",
              "       [ 0.22237547, -0.09653322],\n",
              "       [ 0.25236216,  0.00907432],\n",
              "       [ 0.16702674, -0.20266876],\n",
              "       [ 0.08995929, -0.25746357],\n",
              "       [-0.08407728, -0.2700423 ],\n",
              "       [-0.11106757, -0.27105638],\n",
              "       [ 0.09098435, -0.2890488 ],\n",
              "       [ 0.0503298 , -0.30906007],\n",
              "       [ 0.13578708, -0.29332748],\n",
              "       [ 0.16512552, -0.28955945],\n",
              "       [ 0.1825394 , -0.29090637],\n",
              "       [-0.34637198, -0.07080746],\n",
              "       [-0.08641785, -0.3532186 ],\n",
              "       [-0.13749601, -0.34752622],\n",
              "       [-0.02699743, -0.38288778],\n",
              "       [-0.3652133 , -0.14767362],\n",
              "       [-0.03706397, -0.4023368 ],\n",
              "       [-0.3227153 , -0.25955334],\n",
              "       [-0.25779092, -0.33693543],\n",
              "       [-0.42767137, -0.07583802],\n",
              "       [-0.3849561 , -0.22212535],\n",
              "       [-0.33033064, -0.31223908],\n",
              "       [-0.46315983, -0.03713923],\n",
              "       [-0.46007648,  0.11711017],\n",
              "       [-0.47791213,  0.08171932],\n",
              "       [-0.45809466,  0.18741477],\n",
              "       [-0.5049396 ,  0.01058257],\n",
              "       [-0.49813324,  0.13131775],\n",
              "       [-0.5143709 ,  0.10636154],\n",
              "       [-0.47937888,  0.23832606],\n",
              "       [-0.5150282 ,  0.1796291 ],\n",
              "       [-0.5554447 , -0.01109636],\n",
              "       [-0.2898081 ,  0.4857763 ],\n",
              "       [-0.38245127,  0.430381  ],\n",
              "       [-0.5540383 ,  0.19045167],\n",
              "       [-0.0548686 ,  0.59342843],\n",
              "       [-0.3793066 ,  0.47269014],\n",
              "       [-0.05881319,  0.6133483 ],\n",
              "       [ 0.21120237,  0.5895748 ],\n",
              "       [ 0.09191353,  0.6296909 ],\n",
              "       [ 0.4412045 ,  0.47249883],\n",
              "       [-0.21582237,  0.62008   ],\n",
              "       [ 0.36793956,  0.5559361 ],\n",
              "       [ 0.09583625,  0.6699477 ],\n",
              "       [ 0.10271431,  0.67914534],\n",
              "       [ 0.2695415 ,  0.64273953],\n",
              "       [ 0.41756362,  0.5706046 ],\n",
              "       [ 0.5691088 ,  0.43640628],\n",
              "       [ 0.2878734 ,  0.66787314],\n",
              "       [ 0.73704565,  0.02199333],\n",
              "       [ 0.7394784 ,  0.10904199],\n",
              "       [ 0.3793465 ,  0.655757  ],\n",
              "       [ 0.64758396, -0.4122653 ],\n",
              "       [ 0.50049615, -0.5953502 ],\n",
              "       [ 0.6438837 , -0.45405588],\n",
              "       [ 0.79746693, -0.02860458],\n",
              "       [ 0.76991916,  0.24539582],\n",
              "       [ 0.53686756, -0.6174097 ],\n",
              "       [ 0.80698586, -0.18661796],\n",
              "       [ 0.34928212, -0.762161  ],\n",
              "       [ 0.6294297 , -0.56898576],\n",
              "       [ 0.29489097, -0.80635536],\n",
              "       [ 0.46123284, -0.73612577],\n",
              "       [ 0.24590746, -0.84368104],\n",
              "       [ 0.449853  , -0.7666523 ],\n",
              "       [-0.39753842, -0.8063163 ],\n",
              "       [ 0.2428448 , -0.8760552 ],\n",
              "       [ 0.02928425, -0.9187253 ],\n",
              "       [-0.67289984, -0.64092994],\n",
              "       [ 0.60855734, -0.71562487],\n",
              "       [ 0.50843155, -0.8018965 ],\n",
              "       [-0.5852162 , -0.7604909 ],\n",
              "       [ 0.29984713, -0.9221735 ],\n",
              "       [-0.95492965, -0.21934779],\n",
              "       [-0.26155815, -0.9547185 ],\n",
              "       [-0.20013393, -0.9797686 ],\n",
              "       [-0.        , -0.        ],\n",
              "       [-0.00998099, -0.00155248],\n",
              "       [-0.02000373,  0.00282356],\n",
              "       [-0.02943793, -0.00718903],\n",
              "       [-0.02107214, -0.03447392],\n",
              "       [-0.04515363,  0.02262544],\n",
              "       [-0.05248892, -0.03029865],\n",
              "       [-0.07025831,  0.00795356],\n",
              "       [-0.07752264,  0.0228076 ],\n",
              "       [-0.08968946, -0.01484131],\n",
              "       [-0.09583247,  0.03192455],\n",
              "       [-0.09314436,  0.06057894],\n",
              "       [-0.11141782,  0.04773308],\n",
              "       [-0.12779072, -0.03021041],\n",
              "       [-0.11923295,  0.07603593],\n",
              "       [-0.05732758,  0.14025116],\n",
              "       [-0.1556177 ,  0.04362242],\n",
              "       [-0.13703516,  0.1034802 ],\n",
              "       [-0.14954266,  0.10341588],\n",
              "       [ 0.05256803,  0.18457946],\n",
              "       [-0.04211731,  0.19758111],\n",
              "       [-0.05071586,  0.2059692 ],\n",
              "       [-0.14804523,  0.16572666],\n",
              "       [ 0.00615266,  0.23224175],\n",
              "       [-0.11179474,  0.21510799],\n",
              "       [-0.00636367,  0.25244507],\n",
              "       [-0.06701625,  0.25393182],\n",
              "       [ 0.13054146,  0.23945583],\n",
              "       [ 0.1478808 ,  0.24108735],\n",
              "       [ 0.074959  ,  0.28317612],\n",
              "       [ 0.18625604,  0.23903148],\n",
              "       [ 0.00576496,  0.31307825],\n",
              "       [-0.02572667,  0.32220688],\n",
              "       [ 0.27806264,  0.18382677],\n",
              "       [ 0.2796162 ,  0.19940394],\n",
              "       [ 0.33934405,  0.09916079],\n",
              "       [ 0.280275  , -0.23168372],\n",
              "       [ 0.37275702, -0.0270523 ],\n",
              "       [ 0.27948746,  0.2630944 ],\n",
              "       [ 0.3685845 , -0.1390457 ],\n",
              "       [ 0.29432958,  0.2768009 ],\n",
              "       [ 0.40355936,  0.09302123],\n",
              "       [ 0.42316946, -0.03015368],\n",
              "       [ 0.21122397, -0.37952423],\n",
              "       [ 0.443503  ,  0.02891288],\n",
              "       [ 0.45453992,  0.00224167],\n",
              "       [ 0.4163329 , -0.20630866],\n",
              "       [ 0.45644596, -0.13054594],\n",
              "       [ 0.14150304, -0.46374017],\n",
              "       [ 0.47670472, -0.13314506],\n",
              "       [ 0.4762054 , -0.16823915],\n",
              "       [ 0.3605916 , -0.36790594],\n",
              "       [ 0.34016302, -0.4002241 ],\n",
              "       [-0.306835  , -0.43869773],\n",
              "       [-0.11972231, -0.53215337],\n",
              "       [ 0.06023253, -0.5522807 ],\n",
              "       [ 0.34864965, -0.44543326],\n",
              "       [-0.26167318, -0.51285857],\n",
              "       [ 0.20060621, -0.55044293],\n",
              "       [ 0.29650974, -0.5169621 ],\n",
              "       [-0.49179807, -0.35418093],\n",
              "       [-0.35405093, -0.50428474],\n",
              "       [-0.53202844, -0.3303795 ],\n",
              "       [-0.46311423, -0.4364446 ],\n",
              "       [-0.59897286, -0.24320374],\n",
              "       [-0.33315027, -0.5657644 ],\n",
              "       [-0.28491348, -0.6027178 ],\n",
              "       [-0.6669792 , -0.11468761],\n",
              "       [-0.4727098 , -0.49833125],\n",
              "       [-0.55322355, -0.42392272],\n",
              "       [-0.6409771 , -0.29849187],\n",
              "       [-0.71370935, -0.07038653],\n",
              "       [-0.71512496, -0.13237025],\n",
              "       [-0.6116872 , -0.4117752 ],\n",
              "       [-0.7415659 , -0.09380031],\n",
              "       [-0.5197606 , -0.5511533 ],\n",
              "       [-0.58186454,  0.50076073],\n",
              "       [-0.7425758 , -0.23134257],\n",
              "       [-0.78697747,  0.03767506],\n",
              "       [-0.59616375,  0.5304343 ],\n",
              "       [-0.73375225,  0.33852956],\n",
              "       [ 0.08475009,  0.8137806 ],\n",
              "       [-0.77587366,  0.2899526 ],\n",
              "       [-0.27341044,  0.7925492 ],\n",
              "       [-0.3181441 ,  0.78658175],\n",
              "       [-0.6437588 ,  0.56810594],\n",
              "       [ 0.08581733,  0.8644375 ],\n",
              "       [-0.1291085 ,  0.869252  ],\n",
              "       [ 0.36669222,  0.8097285 ],\n",
              "       [ 0.47149527,  0.7654247 ],\n",
              "       [ 0.88131654,  0.2229965 ],\n",
              "       [ 0.7787075 ,  0.48839375],\n",
              "       [ 0.23780952,  0.8983496 ],\n",
              "       [ 0.38706964,  0.8559428 ],\n",
              "       [ 0.8833129 ,  0.34828007],\n",
              "       [ 0.84361047,  0.45732456],\n",
              "       [ 0.8918927 ,  0.3805781 ],\n",
              "       [ 0.13667156,  0.970219  ],\n",
              "       [ 0.85232234,  0.50343484],\n",
              "       [ 0.7042943 ,  0.70990807],\n",
              "       [ 0.        ,  0.        ],\n",
              "       [ 0.00942322,  0.00363777],\n",
              "       [ 0.01963846, -0.00473842],\n",
              "       [ 0.03027721, -0.00125077],\n",
              "       [ 0.03756879, -0.0148685 ],\n",
              "       [ 0.04994911,  0.00747303],\n",
              "       [ 0.05813543,  0.01712793],\n",
              "       [ 0.07047126, -0.00576989],\n",
              "       [ 0.07506701, -0.02991471],\n",
              "       [ 0.07078467, -0.05704378],\n",
              "       [-0.01495562, -0.0998968 ],\n",
              "       [ 0.0871168 , -0.06896624],\n",
              "       [ 0.11529316, -0.03741478],\n",
              "       [ 0.0987403 , -0.08656495],\n",
              "       [ 0.10230787, -0.09762714],\n",
              "       [ 0.03531701, -0.14734161],\n",
              "       [ 0.1472112 , -0.06669819],\n",
              "       [ 0.04120879, -0.1666992 ],\n",
              "       [ 0.0171949 , -0.18100327],\n",
              "       [-0.00846739, -0.19173232],\n",
              "       [ 0.05380815, -0.19472249],\n",
              "       [-0.00235506, -0.21210814],\n",
              "       [ 0.10280614, -0.19701171],\n",
              "       [-0.01982181, -0.23147608],\n",
              "       [-0.03902057, -0.23926327],\n",
              "       [-0.17067136, -0.18611902],\n",
              "       [-0.01496758, -0.2621994 ],\n",
              "       [-0.24627525, -0.1171694 ],\n",
              "       [-0.2828022 ,  0.00384075],\n",
              "       [ 0.02832533, -0.2915566 ],\n",
              "       [-0.28778857, -0.09489522],\n",
              "       [-0.31180197, -0.02882288],\n",
              "       [-0.25764436, -0.19518843],\n",
              "       [-0.3033699 , -0.13812242],\n",
              "       [-0.33698907, -0.0662232 ],\n",
              "       [-0.34810564, -0.06172285],\n",
              "       [-0.3624708 , -0.0290917 ],\n",
              "       [-0.29465905, -0.22990362],\n",
              "       [-0.2525749 ,  0.28902912],\n",
              "       [-0.23951483,  0.31276333],\n",
              "       [-0.40300006,  0.02897591],\n",
              "       [-0.40925655, -0.06342077],\n",
              "       [-0.24986634,  0.3428534 ],\n",
              "       [-0.38249806,  0.20578985],\n",
              "       [-0.25726756,  0.36241448],\n",
              "       [-0.30882028,  0.33352903],\n",
              "       [-0.06507158,  0.46006742],\n",
              "       [-0.01798479,  0.4744067 ],\n",
              "       [-0.29228574,  0.38684246],\n",
              "       [-0.37987253,  0.3172883 ],\n",
              "       [-0.3872288 ,  0.32423738],\n",
              "       [ 0.16398637,  0.4883539 ],\n",
              "       [-0.24005263,  0.46718836],\n",
              "       [-0.01745694,  0.5350688 ],\n",
              "       [ 0.01289728,  0.54530203],\n",
              "       [ 0.21456698,  0.512448  ],\n",
              "       [-0.24314179,  0.5107342 ],\n",
              "       [ 0.37930962,  0.43315238],\n",
              "       [ 0.48908144,  0.32253626],\n",
              "       [ 0.45591846,  0.3838049 ],\n",
              "       [ 0.4229526 ,  0.43407437],\n",
              "       [ 0.5427227 ,  0.2917314 ],\n",
              "       [ 0.6081054 ,  0.14970854],\n",
              "       [-0.09849419,  0.62869513],\n",
              "       [ 0.4778011 , -0.4354568 ],\n",
              "       [ 0.65549314, -0.03751258],\n",
              "       [ 0.6232061 ,  0.23676708],\n",
              "       [ 0.6709391 ,  0.08862964],\n",
              "       [ 0.6293872 , -0.27506432],\n",
              "       [ 0.6819317 , -0.1439999 ],\n",
              "       [ 0.5636685 ,  0.42688033],\n",
              "       [ 0.05042588, -0.71539676],\n",
              "       [ 0.6333269 , -0.357523  ],\n",
              "       [ 0.28068882, -0.68186057],\n",
              "       [ 0.68092144, -0.30832535],\n",
              "       [-0.05269396, -0.75574094],\n",
              "       [ 0.33694732, -0.6897783 ],\n",
              "       [ 0.14851996, -0.7634658 ],\n",
              "       [ 0.6259644 , -0.47845745],\n",
              "       [-0.24421836, -0.75969017],\n",
              "       [-0.12186323, -0.79883915],\n",
              "       [-0.43350238, -0.6939    ],\n",
              "       [ 0.24916169, -0.7899183 ],\n",
              "       [ 0.10952196, -0.83119935],\n",
              "       [-0.8301398 , -0.1754835 ],\n",
              "       [ 0.18609773, -0.838175  ],\n",
              "       [-0.29342726, -0.8176291 ],\n",
              "       [-0.7758768 , -0.412654  ],\n",
              "       [-0.5473894 , -0.70034873],\n",
              "       [-0.7598756 , -0.48038727],\n",
              "       [-0.52588105, -0.7415493 ],\n",
              "       [-0.8202774 , -0.41479972],\n",
              "       [-0.3319986 , -0.86796445],\n",
              "       [-0.87312055,  0.34658545],\n",
              "       [-0.8710804 , -0.37783542],\n",
              "       [-0.79776233, -0.5332914 ],\n",
              "       [-0.9531448 ,  0.17840199],\n",
              "       [-0.9423114 , -0.2684275 ],\n",
              "       [-0.8095103 , -0.5697307 ],\n",
              "       [-0.868569  , -0.49556825]], dtype=float32)"
            ]
          },
          "metadata": {},
          "execution_count": 20
        }
      ]
    },
    {
      "cell_type": "code",
      "source": [
        "y"
      ],
      "metadata": {
        "colab": {
          "base_uri": "https://localhost:8080/"
        },
        "id": "XiV-mxsm5JDc",
        "outputId": "4d9e2c2b-061b-4cd5-ab0b-83bff3868f5d"
      },
      "execution_count": 21,
      "outputs": [
        {
          "output_type": "execute_result",
          "data": {
            "text/plain": [
              "array([0, 0, 0, 0, 0, 0, 0, 0, 0, 0, 0, 0, 0, 0, 0, 0, 0, 0, 0, 0, 0, 0,\n",
              "       0, 0, 0, 0, 0, 0, 0, 0, 0, 0, 0, 0, 0, 0, 0, 0, 0, 0, 0, 0, 0, 0,\n",
              "       0, 0, 0, 0, 0, 0, 0, 0, 0, 0, 0, 0, 0, 0, 0, 0, 0, 0, 0, 0, 0, 0,\n",
              "       0, 0, 0, 0, 0, 0, 0, 0, 0, 0, 0, 0, 0, 0, 0, 0, 0, 0, 0, 0, 0, 0,\n",
              "       0, 0, 0, 0, 0, 0, 0, 0, 0, 0, 0, 0, 1, 1, 1, 1, 1, 1, 1, 1, 1, 1,\n",
              "       1, 1, 1, 1, 1, 1, 1, 1, 1, 1, 1, 1, 1, 1, 1, 1, 1, 1, 1, 1, 1, 1,\n",
              "       1, 1, 1, 1, 1, 1, 1, 1, 1, 1, 1, 1, 1, 1, 1, 1, 1, 1, 1, 1, 1, 1,\n",
              "       1, 1, 1, 1, 1, 1, 1, 1, 1, 1, 1, 1, 1, 1, 1, 1, 1, 1, 1, 1, 1, 1,\n",
              "       1, 1, 1, 1, 1, 1, 1, 1, 1, 1, 1, 1, 1, 1, 1, 1, 1, 1, 1, 1, 1, 1,\n",
              "       1, 1, 2, 2, 2, 2, 2, 2, 2, 2, 2, 2, 2, 2, 2, 2, 2, 2, 2, 2, 2, 2,\n",
              "       2, 2, 2, 2, 2, 2, 2, 2, 2, 2, 2, 2, 2, 2, 2, 2, 2, 2, 2, 2, 2, 2,\n",
              "       2, 2, 2, 2, 2, 2, 2, 2, 2, 2, 2, 2, 2, 2, 2, 2, 2, 2, 2, 2, 2, 2,\n",
              "       2, 2, 2, 2, 2, 2, 2, 2, 2, 2, 2, 2, 2, 2, 2, 2, 2, 2, 2, 2, 2, 2,\n",
              "       2, 2, 2, 2, 2, 2, 2, 2, 2, 2, 2, 2, 2, 2], dtype=uint8)"
            ]
          },
          "metadata": {},
          "execution_count": 21
        }
      ]
    },
    {
      "cell_type": "code",
      "source": [
        "y=y.reshape(300,1)\n",
        "y"
      ],
      "metadata": {
        "colab": {
          "base_uri": "https://localhost:8080/"
        },
        "id": "2uYFnHq07Gm6",
        "outputId": "31e61e4d-2708-4e61-9a37-b989817f7091"
      },
      "execution_count": 22,
      "outputs": [
        {
          "output_type": "execute_result",
          "data": {
            "text/plain": [
              "array([[0],\n",
              "       [0],\n",
              "       [0],\n",
              "       [0],\n",
              "       [0],\n",
              "       [0],\n",
              "       [0],\n",
              "       [0],\n",
              "       [0],\n",
              "       [0],\n",
              "       [0],\n",
              "       [0],\n",
              "       [0],\n",
              "       [0],\n",
              "       [0],\n",
              "       [0],\n",
              "       [0],\n",
              "       [0],\n",
              "       [0],\n",
              "       [0],\n",
              "       [0],\n",
              "       [0],\n",
              "       [0],\n",
              "       [0],\n",
              "       [0],\n",
              "       [0],\n",
              "       [0],\n",
              "       [0],\n",
              "       [0],\n",
              "       [0],\n",
              "       [0],\n",
              "       [0],\n",
              "       [0],\n",
              "       [0],\n",
              "       [0],\n",
              "       [0],\n",
              "       [0],\n",
              "       [0],\n",
              "       [0],\n",
              "       [0],\n",
              "       [0],\n",
              "       [0],\n",
              "       [0],\n",
              "       [0],\n",
              "       [0],\n",
              "       [0],\n",
              "       [0],\n",
              "       [0],\n",
              "       [0],\n",
              "       [0],\n",
              "       [0],\n",
              "       [0],\n",
              "       [0],\n",
              "       [0],\n",
              "       [0],\n",
              "       [0],\n",
              "       [0],\n",
              "       [0],\n",
              "       [0],\n",
              "       [0],\n",
              "       [0],\n",
              "       [0],\n",
              "       [0],\n",
              "       [0],\n",
              "       [0],\n",
              "       [0],\n",
              "       [0],\n",
              "       [0],\n",
              "       [0],\n",
              "       [0],\n",
              "       [0],\n",
              "       [0],\n",
              "       [0],\n",
              "       [0],\n",
              "       [0],\n",
              "       [0],\n",
              "       [0],\n",
              "       [0],\n",
              "       [0],\n",
              "       [0],\n",
              "       [0],\n",
              "       [0],\n",
              "       [0],\n",
              "       [0],\n",
              "       [0],\n",
              "       [0],\n",
              "       [0],\n",
              "       [0],\n",
              "       [0],\n",
              "       [0],\n",
              "       [0],\n",
              "       [0],\n",
              "       [0],\n",
              "       [0],\n",
              "       [0],\n",
              "       [0],\n",
              "       [0],\n",
              "       [0],\n",
              "       [0],\n",
              "       [0],\n",
              "       [1],\n",
              "       [1],\n",
              "       [1],\n",
              "       [1],\n",
              "       [1],\n",
              "       [1],\n",
              "       [1],\n",
              "       [1],\n",
              "       [1],\n",
              "       [1],\n",
              "       [1],\n",
              "       [1],\n",
              "       [1],\n",
              "       [1],\n",
              "       [1],\n",
              "       [1],\n",
              "       [1],\n",
              "       [1],\n",
              "       [1],\n",
              "       [1],\n",
              "       [1],\n",
              "       [1],\n",
              "       [1],\n",
              "       [1],\n",
              "       [1],\n",
              "       [1],\n",
              "       [1],\n",
              "       [1],\n",
              "       [1],\n",
              "       [1],\n",
              "       [1],\n",
              "       [1],\n",
              "       [1],\n",
              "       [1],\n",
              "       [1],\n",
              "       [1],\n",
              "       [1],\n",
              "       [1],\n",
              "       [1],\n",
              "       [1],\n",
              "       [1],\n",
              "       [1],\n",
              "       [1],\n",
              "       [1],\n",
              "       [1],\n",
              "       [1],\n",
              "       [1],\n",
              "       [1],\n",
              "       [1],\n",
              "       [1],\n",
              "       [1],\n",
              "       [1],\n",
              "       [1],\n",
              "       [1],\n",
              "       [1],\n",
              "       [1],\n",
              "       [1],\n",
              "       [1],\n",
              "       [1],\n",
              "       [1],\n",
              "       [1],\n",
              "       [1],\n",
              "       [1],\n",
              "       [1],\n",
              "       [1],\n",
              "       [1],\n",
              "       [1],\n",
              "       [1],\n",
              "       [1],\n",
              "       [1],\n",
              "       [1],\n",
              "       [1],\n",
              "       [1],\n",
              "       [1],\n",
              "       [1],\n",
              "       [1],\n",
              "       [1],\n",
              "       [1],\n",
              "       [1],\n",
              "       [1],\n",
              "       [1],\n",
              "       [1],\n",
              "       [1],\n",
              "       [1],\n",
              "       [1],\n",
              "       [1],\n",
              "       [1],\n",
              "       [1],\n",
              "       [1],\n",
              "       [1],\n",
              "       [1],\n",
              "       [1],\n",
              "       [1],\n",
              "       [1],\n",
              "       [1],\n",
              "       [1],\n",
              "       [1],\n",
              "       [1],\n",
              "       [1],\n",
              "       [1],\n",
              "       [2],\n",
              "       [2],\n",
              "       [2],\n",
              "       [2],\n",
              "       [2],\n",
              "       [2],\n",
              "       [2],\n",
              "       [2],\n",
              "       [2],\n",
              "       [2],\n",
              "       [2],\n",
              "       [2],\n",
              "       [2],\n",
              "       [2],\n",
              "       [2],\n",
              "       [2],\n",
              "       [2],\n",
              "       [2],\n",
              "       [2],\n",
              "       [2],\n",
              "       [2],\n",
              "       [2],\n",
              "       [2],\n",
              "       [2],\n",
              "       [2],\n",
              "       [2],\n",
              "       [2],\n",
              "       [2],\n",
              "       [2],\n",
              "       [2],\n",
              "       [2],\n",
              "       [2],\n",
              "       [2],\n",
              "       [2],\n",
              "       [2],\n",
              "       [2],\n",
              "       [2],\n",
              "       [2],\n",
              "       [2],\n",
              "       [2],\n",
              "       [2],\n",
              "       [2],\n",
              "       [2],\n",
              "       [2],\n",
              "       [2],\n",
              "       [2],\n",
              "       [2],\n",
              "       [2],\n",
              "       [2],\n",
              "       [2],\n",
              "       [2],\n",
              "       [2],\n",
              "       [2],\n",
              "       [2],\n",
              "       [2],\n",
              "       [2],\n",
              "       [2],\n",
              "       [2],\n",
              "       [2],\n",
              "       [2],\n",
              "       [2],\n",
              "       [2],\n",
              "       [2],\n",
              "       [2],\n",
              "       [2],\n",
              "       [2],\n",
              "       [2],\n",
              "       [2],\n",
              "       [2],\n",
              "       [2],\n",
              "       [2],\n",
              "       [2],\n",
              "       [2],\n",
              "       [2],\n",
              "       [2],\n",
              "       [2],\n",
              "       [2],\n",
              "       [2],\n",
              "       [2],\n",
              "       [2],\n",
              "       [2],\n",
              "       [2],\n",
              "       [2],\n",
              "       [2],\n",
              "       [2],\n",
              "       [2],\n",
              "       [2],\n",
              "       [2],\n",
              "       [2],\n",
              "       [2],\n",
              "       [2],\n",
              "       [2],\n",
              "       [2],\n",
              "       [2],\n",
              "       [2],\n",
              "       [2],\n",
              "       [2],\n",
              "       [2],\n",
              "       [2],\n",
              "       [2]], dtype=uint8)"
            ]
          },
          "metadata": {},
          "execution_count": 22
        }
      ]
    },
    {
      "cell_type": "code",
      "source": [
        "z = np.hstack((X,y) )\n",
        "z.shape"
      ],
      "metadata": {
        "colab": {
          "base_uri": "https://localhost:8080/"
        },
        "id": "JRssnCwK5L9V",
        "outputId": "9fead9be-7095-439c-b690-a7bc0a4584da"
      },
      "execution_count": 23,
      "outputs": [
        {
          "output_type": "execute_result",
          "data": {
            "text/plain": [
              "(300, 3)"
            ]
          },
          "metadata": {},
          "execution_count": 23
        }
      ]
    },
    {
      "cell_type": "code",
      "source": [
        "z"
      ],
      "metadata": {
        "colab": {
          "base_uri": "https://localhost:8080/"
        },
        "id": "kk2e0zjd7dbT",
        "outputId": "6181a135-0d57-4f2e-ddc7-b401cbc64cb5"
      },
      "execution_count": 24,
      "outputs": [
        {
          "output_type": "execute_result",
          "data": {
            "text/plain": [
              "array([[-0.00000000e+00,  0.00000000e+00,  0.00000000e+00],\n",
              "       [ 3.04587721e-03,  9.63083748e-03,  0.00000000e+00],\n",
              "       [ 5.46716759e-03,  1.94481798e-02,  0.00000000e+00],\n",
              "       [ 2.59813629e-02,  1.55962314e-02,  0.00000000e+00],\n",
              "       [ 2.85459924e-02,  2.85939295e-02,  0.00000000e+00],\n",
              "       [ 2.70790718e-02,  4.26319614e-02,  0.00000000e+00],\n",
              "       [ 4.46409024e-02,  4.09912728e-02,  0.00000000e+00],\n",
              "       [ 5.42212240e-02,  4.53822538e-02,  0.00000000e+00],\n",
              "       [ 8.07981491e-02,  1.26669370e-03,  0.00000000e+00],\n",
              "       [ 6.56252429e-02,  6.29109740e-02,  0.00000000e+00],\n",
              "       [ 9.28719640e-02,  3.97220142e-02,  0.00000000e+00],\n",
              "       [ 7.02163652e-02,  8.61123726e-02,  0.00000000e+00],\n",
              "       [-7.79747870e-03,  1.20961055e-01,  0.00000000e+00],\n",
              "       [ 1.30999357e-01, -9.07231774e-03,  0.00000000e+00],\n",
              "       [ 1.36078879e-01, -3.84772234e-02,  0.00000000e+00],\n",
              "       [ 1.37928054e-01,  6.27111867e-02,  0.00000000e+00],\n",
              "       [ 6.15273491e-02, -1.49446204e-01,  0.00000000e+00],\n",
              "       [ 1.43558964e-01,  9.42210704e-02,  0.00000000e+00],\n",
              "       [ 1.75218225e-01, -4.85430174e-02,  0.00000000e+00],\n",
              "       [ 1.85722664e-01, -4.83742729e-02,  0.00000000e+00],\n",
              "       [ 7.02204704e-02, -1.89423457e-01,  0.00000000e+00],\n",
              "       [ 5.97821698e-02, -2.03522727e-01,  0.00000000e+00],\n",
              "       [ 1.65757284e-01, -1.48010939e-01,  0.00000000e+00],\n",
              "       [ 1.36736646e-01, -1.87822193e-01,  0.00000000e+00],\n",
              "       [ 2.22375467e-01, -9.65332165e-02,  0.00000000e+00],\n",
              "       [ 2.52362162e-01,  9.07431636e-03,  0.00000000e+00],\n",
              "       [ 1.67026743e-01, -2.02668756e-01,  0.00000000e+00],\n",
              "       [ 8.99592862e-02, -2.57463574e-01,  0.00000000e+00],\n",
              "       [-8.40772837e-02, -2.70042300e-01,  0.00000000e+00],\n",
              "       [-1.11067571e-01, -2.71056384e-01,  0.00000000e+00],\n",
              "       [ 9.09843519e-02, -2.89048791e-01,  0.00000000e+00],\n",
              "       [ 5.03298044e-02, -3.09060067e-01,  0.00000000e+00],\n",
              "       [ 1.35787085e-01, -2.93327481e-01,  0.00000000e+00],\n",
              "       [ 1.65125519e-01, -2.89559454e-01,  0.00000000e+00],\n",
              "       [ 1.82539403e-01, -2.90906370e-01,  0.00000000e+00],\n",
              "       [-3.46371979e-01, -7.08074644e-02,  0.00000000e+00],\n",
              "       [-8.64178538e-02, -3.53218585e-01,  0.00000000e+00],\n",
              "       [-1.37496009e-01, -3.47526222e-01,  0.00000000e+00],\n",
              "       [-2.69974303e-02, -3.82887781e-01,  0.00000000e+00],\n",
              "       [-3.65213305e-01, -1.47673622e-01,  0.00000000e+00],\n",
              "       [-3.70639712e-02, -4.02336806e-01,  0.00000000e+00],\n",
              "       [-3.22715312e-01, -2.59553343e-01,  0.00000000e+00],\n",
              "       [-2.57790923e-01, -3.36935431e-01,  0.00000000e+00],\n",
              "       [-4.27671373e-01, -7.58380219e-02,  0.00000000e+00],\n",
              "       [-3.84956092e-01, -2.22125351e-01,  0.00000000e+00],\n",
              "       [-3.30330640e-01, -3.12239081e-01,  0.00000000e+00],\n",
              "       [-4.63159829e-01, -3.71392332e-02,  0.00000000e+00],\n",
              "       [-4.60076481e-01,  1.17110170e-01,  0.00000000e+00],\n",
              "       [-4.77912128e-01,  8.17193165e-02,  0.00000000e+00],\n",
              "       [-4.58094656e-01,  1.87414765e-01,  0.00000000e+00],\n",
              "       [-5.04939616e-01,  1.05825709e-02,  0.00000000e+00],\n",
              "       [-4.98133242e-01,  1.31317750e-01,  0.00000000e+00],\n",
              "       [-5.14370918e-01,  1.06361538e-01,  0.00000000e+00],\n",
              "       [-4.79378879e-01,  2.38326058e-01,  0.00000000e+00],\n",
              "       [-5.15028179e-01,  1.79629102e-01,  0.00000000e+00],\n",
              "       [-5.55444717e-01, -1.10963555e-02,  0.00000000e+00],\n",
              "       [-2.89808095e-01,  4.85776305e-01,  0.00000000e+00],\n",
              "       [-3.82451266e-01,  4.30381000e-01,  0.00000000e+00],\n",
              "       [-5.54038286e-01,  1.90451667e-01,  0.00000000e+00],\n",
              "       [-5.48685975e-02,  5.93428433e-01,  0.00000000e+00],\n",
              "       [-3.79306614e-01,  4.72690135e-01,  0.00000000e+00],\n",
              "       [-5.88131882e-02,  6.13348305e-01,  0.00000000e+00],\n",
              "       [ 2.11202368e-01,  5.89574814e-01,  0.00000000e+00],\n",
              "       [ 9.19135287e-02,  6.29690886e-01,  0.00000000e+00],\n",
              "       [ 4.41204488e-01,  4.72498834e-01,  0.00000000e+00],\n",
              "       [-2.15822369e-01,  6.20079994e-01,  0.00000000e+00],\n",
              "       [ 3.67939562e-01,  5.55936098e-01,  0.00000000e+00],\n",
              "       [ 9.58362520e-02,  6.69947684e-01,  0.00000000e+00],\n",
              "       [ 1.02714308e-01,  6.79145336e-01,  0.00000000e+00],\n",
              "       [ 2.69541502e-01,  6.42739534e-01,  0.00000000e+00],\n",
              "       [ 4.17563617e-01,  5.70604622e-01,  0.00000000e+00],\n",
              "       [ 5.69108784e-01,  4.36406285e-01,  0.00000000e+00],\n",
              "       [ 2.87873387e-01,  6.67873144e-01,  0.00000000e+00],\n",
              "       [ 7.37045646e-01,  2.19933297e-02,  0.00000000e+00],\n",
              "       [ 7.39478409e-01,  1.09041989e-01,  0.00000000e+00],\n",
              "       [ 3.79346490e-01,  6.55757010e-01,  0.00000000e+00],\n",
              "       [ 6.47583961e-01, -4.12265301e-01,  0.00000000e+00],\n",
              "       [ 5.00496149e-01, -5.95350206e-01,  0.00000000e+00],\n",
              "       [ 6.43883705e-01, -4.54055876e-01,  0.00000000e+00],\n",
              "       [ 7.97466934e-01, -2.86045820e-02,  0.00000000e+00],\n",
              "       [ 7.69919157e-01,  2.45395824e-01,  0.00000000e+00],\n",
              "       [ 5.36867559e-01, -6.17409706e-01,  0.00000000e+00],\n",
              "       [ 8.06985855e-01, -1.86617956e-01,  0.00000000e+00],\n",
              "       [ 3.49282116e-01, -7.62161016e-01,  0.00000000e+00],\n",
              "       [ 6.29429698e-01, -5.68985760e-01,  0.00000000e+00],\n",
              "       [ 2.94890970e-01, -8.06355357e-01,  0.00000000e+00],\n",
              "       [ 4.61232841e-01, -7.36125767e-01,  0.00000000e+00],\n",
              "       [ 2.45907456e-01, -8.43681037e-01,  0.00000000e+00],\n",
              "       [ 4.49853003e-01, -7.66652286e-01,  0.00000000e+00],\n",
              "       [-3.97538424e-01, -8.06316316e-01,  0.00000000e+00],\n",
              "       [ 2.42844805e-01, -8.76055181e-01,  0.00000000e+00],\n",
              "       [ 2.92842519e-02, -9.18725312e-01,  0.00000000e+00],\n",
              "       [-6.72899842e-01, -6.40929937e-01,  0.00000000e+00],\n",
              "       [ 6.08557343e-01, -7.15624869e-01,  0.00000000e+00],\n",
              "       [ 5.08431554e-01, -8.01896513e-01,  0.00000000e+00],\n",
              "       [-5.85216224e-01, -7.60490894e-01,  0.00000000e+00],\n",
              "       [ 2.99847126e-01, -9.22173500e-01,  0.00000000e+00],\n",
              "       [-9.54929650e-01, -2.19347790e-01,  0.00000000e+00],\n",
              "       [-2.61558145e-01, -9.54718471e-01,  0.00000000e+00],\n",
              "       [-2.00133935e-01, -9.79768574e-01,  0.00000000e+00],\n",
              "       [-0.00000000e+00, -0.00000000e+00,  1.00000000e+00],\n",
              "       [-9.98099335e-03, -1.55247608e-03,  1.00000000e+00],\n",
              "       [-2.00037286e-02,  2.82356166e-03,  1.00000000e+00],\n",
              "       [-2.94379257e-02, -7.18902890e-03,  1.00000000e+00],\n",
              "       [-2.10721418e-02, -3.44739221e-02,  1.00000000e+00],\n",
              "       [-4.51536253e-02,  2.26254351e-02,  1.00000000e+00],\n",
              "       [-5.24889156e-02, -3.02986521e-02,  1.00000000e+00],\n",
              "       [-7.02583119e-02,  7.95355719e-03,  1.00000000e+00],\n",
              "       [-7.75226355e-02,  2.28076037e-02,  1.00000000e+00],\n",
              "       [-8.96894559e-02, -1.48413097e-02,  1.00000000e+00],\n",
              "       [-9.58324745e-02,  3.19245495e-02,  1.00000000e+00],\n",
              "       [-9.31443572e-02,  6.05789423e-02,  1.00000000e+00],\n",
              "       [-1.11417823e-01,  4.77330759e-02,  1.00000000e+00],\n",
              "       [-1.27790719e-01, -3.02104112e-02,  1.00000000e+00],\n",
              "       [-1.19232953e-01,  7.60359317e-02,  1.00000000e+00],\n",
              "       [-5.73275834e-02,  1.40251160e-01,  1.00000000e+00],\n",
              "       [-1.55617699e-01,  4.36224155e-02,  1.00000000e+00],\n",
              "       [-1.37035161e-01,  1.03480205e-01,  1.00000000e+00],\n",
              "       [-1.49542660e-01,  1.03415884e-01,  1.00000000e+00],\n",
              "       [ 5.25680333e-02,  1.84579462e-01,  1.00000000e+00],\n",
              "       [-4.21173051e-02,  1.97581112e-01,  1.00000000e+00],\n",
              "       [-5.07158600e-02,  2.05969200e-01,  1.00000000e+00],\n",
              "       [-1.48045227e-01,  1.65726662e-01,  1.00000000e+00],\n",
              "       [ 6.15266338e-03,  2.32241750e-01,  1.00000000e+00],\n",
              "       [-1.11794740e-01,  2.15107992e-01,  1.00000000e+00],\n",
              "       [-6.36367220e-03,  2.52445072e-01,  1.00000000e+00],\n",
              "       [-6.70162514e-02,  2.53931820e-01,  1.00000000e+00],\n",
              "       [ 1.30541459e-01,  2.39455834e-01,  1.00000000e+00],\n",
              "       [ 1.47880793e-01,  2.41087347e-01,  1.00000000e+00],\n",
              "       [ 7.49590024e-02,  2.83176124e-01,  1.00000000e+00],\n",
              "       [ 1.86256036e-01,  2.39031479e-01,  1.00000000e+00],\n",
              "       [ 5.76496450e-03,  3.13078254e-01,  1.00000000e+00],\n",
              "       [-2.57266685e-02,  3.22206885e-01,  1.00000000e+00],\n",
              "       [ 2.78062642e-01,  1.83826774e-01,  1.00000000e+00],\n",
              "       [ 2.79616207e-01,  1.99403942e-01,  1.00000000e+00],\n",
              "       [ 3.39344054e-01,  9.91607904e-02,  1.00000000e+00],\n",
              "       [ 2.80274987e-01, -2.31683716e-01,  1.00000000e+00],\n",
              "       [ 3.72757018e-01, -2.70523001e-02,  1.00000000e+00],\n",
              "       [ 2.79487461e-01,  2.63094395e-01,  1.00000000e+00],\n",
              "       [ 3.68584514e-01, -1.39045700e-01,  1.00000000e+00],\n",
              "       [ 2.94329584e-01,  2.76800901e-01,  1.00000000e+00],\n",
              "       [ 4.03559357e-01,  9.30212289e-02,  1.00000000e+00],\n",
              "       [ 4.23169464e-01, -3.01536750e-02,  1.00000000e+00],\n",
              "       [ 2.11223975e-01, -3.79524231e-01,  1.00000000e+00],\n",
              "       [ 4.43502992e-01,  2.89128758e-02,  1.00000000e+00],\n",
              "       [ 4.54539925e-01,  2.24166876e-03,  1.00000000e+00],\n",
              "       [ 4.16332901e-01, -2.06308663e-01,  1.00000000e+00],\n",
              "       [ 4.56445962e-01, -1.30545944e-01,  1.00000000e+00],\n",
              "       [ 1.41503036e-01, -4.63740170e-01,  1.00000000e+00],\n",
              "       [ 4.76704717e-01, -1.33145064e-01,  1.00000000e+00],\n",
              "       [ 4.76205409e-01, -1.68239146e-01,  1.00000000e+00],\n",
              "       [ 3.60591590e-01, -3.67905945e-01,  1.00000000e+00],\n",
              "       [ 3.40163022e-01, -4.00224090e-01,  1.00000000e+00],\n",
              "       [-3.06834996e-01, -4.38697726e-01,  1.00000000e+00],\n",
              "       [-1.19722307e-01, -5.32153368e-01,  1.00000000e+00],\n",
              "       [ 6.02325313e-02, -5.52280724e-01,  1.00000000e+00],\n",
              "       [ 3.48649651e-01, -4.45433259e-01,  1.00000000e+00],\n",
              "       [-2.61673182e-01, -5.12858570e-01,  1.00000000e+00],\n",
              "       [ 2.00606212e-01, -5.50442934e-01,  1.00000000e+00],\n",
              "       [ 2.96509743e-01, -5.16962111e-01,  1.00000000e+00],\n",
              "       [-4.91798073e-01, -3.54180932e-01,  1.00000000e+00],\n",
              "       [-3.54050934e-01, -5.04284739e-01,  1.00000000e+00],\n",
              "       [-5.32028437e-01, -3.30379486e-01,  1.00000000e+00],\n",
              "       [-4.63114232e-01, -4.36444610e-01,  1.00000000e+00],\n",
              "       [-5.98972857e-01, -2.43203744e-01,  1.00000000e+00],\n",
              "       [-3.33150268e-01, -5.65764427e-01,  1.00000000e+00],\n",
              "       [-2.84913480e-01, -6.02717817e-01,  1.00000000e+00],\n",
              "       [-6.66979194e-01, -1.14687614e-01,  1.00000000e+00],\n",
              "       [-4.72709805e-01, -4.98331249e-01,  1.00000000e+00],\n",
              "       [-5.53223550e-01, -4.23922718e-01,  1.00000000e+00],\n",
              "       [-6.40977085e-01, -2.98491865e-01,  1.00000000e+00],\n",
              "       [-7.13709354e-01, -7.03865290e-02,  1.00000000e+00],\n",
              "       [-7.15124965e-01, -1.32370248e-01,  1.00000000e+00],\n",
              "       [-6.11687183e-01, -4.11775202e-01,  1.00000000e+00],\n",
              "       [-7.41565883e-01, -9.38003138e-02,  1.00000000e+00],\n",
              "       [-5.19760609e-01, -5.51153302e-01,  1.00000000e+00],\n",
              "       [-5.81864536e-01,  5.00760734e-01,  1.00000000e+00],\n",
              "       [-7.42575824e-01, -2.31342569e-01,  1.00000000e+00],\n",
              "       [-7.86977470e-01,  3.76750603e-02,  1.00000000e+00],\n",
              "       [-5.96163750e-01,  5.30434310e-01,  1.00000000e+00],\n",
              "       [-7.33752251e-01,  3.38529557e-01,  1.00000000e+00],\n",
              "       [ 8.47500935e-02,  8.13780606e-01,  1.00000000e+00],\n",
              "       [-7.75873661e-01,  2.89952606e-01,  1.00000000e+00],\n",
              "       [-2.73410439e-01,  7.92549193e-01,  1.00000000e+00],\n",
              "       [-3.18144113e-01,  7.86581755e-01,  1.00000000e+00],\n",
              "       [-6.43758774e-01,  5.68105936e-01,  1.00000000e+00],\n",
              "       [ 8.58173296e-02,  8.64437521e-01,  1.00000000e+00],\n",
              "       [-1.29108503e-01,  8.69252026e-01,  1.00000000e+00],\n",
              "       [ 3.66692215e-01,  8.09728503e-01,  1.00000000e+00],\n",
              "       [ 4.71495271e-01,  7.65424728e-01,  1.00000000e+00],\n",
              "       [ 8.81316543e-01,  2.22996503e-01,  1.00000000e+00],\n",
              "       [ 7.78707504e-01,  4.88393754e-01,  1.00000000e+00],\n",
              "       [ 2.37809524e-01,  8.98349583e-01,  1.00000000e+00],\n",
              "       [ 3.87069643e-01,  8.55942786e-01,  1.00000000e+00],\n",
              "       [ 8.83312881e-01,  3.48280072e-01,  1.00000000e+00],\n",
              "       [ 8.43610466e-01,  4.57324564e-01,  1.00000000e+00],\n",
              "       [ 8.91892672e-01,  3.80578101e-01,  1.00000000e+00],\n",
              "       [ 1.36671558e-01,  9.70219016e-01,  1.00000000e+00],\n",
              "       [ 8.52322340e-01,  5.03434837e-01,  1.00000000e+00],\n",
              "       [ 7.04294324e-01,  7.09908068e-01,  1.00000000e+00],\n",
              "       [ 0.00000000e+00,  0.00000000e+00,  2.00000000e+00],\n",
              "       [ 9.42321680e-03,  3.63777205e-03,  2.00000000e+00],\n",
              "       [ 1.96384564e-02, -4.73841932e-03,  2.00000000e+00],\n",
              "       [ 3.02772056e-02, -1.25077087e-03,  2.00000000e+00],\n",
              "       [ 3.75687927e-02, -1.48684978e-02,  2.00000000e+00],\n",
              "       [ 4.99491133e-02,  7.47302966e-03,  2.00000000e+00],\n",
              "       [ 5.81354350e-02,  1.71279274e-02,  2.00000000e+00],\n",
              "       [ 7.04712570e-02, -5.76989260e-03,  2.00000000e+00],\n",
              "       [ 7.50670135e-02, -2.99147051e-02,  2.00000000e+00],\n",
              "       [ 7.07846731e-02, -5.70437796e-02,  2.00000000e+00],\n",
              "       [-1.49556194e-02, -9.98967960e-02,  2.00000000e+00],\n",
              "       [ 8.71168002e-02, -6.89662397e-02,  2.00000000e+00],\n",
              "       [ 1.15293160e-01, -3.74147780e-02,  2.00000000e+00],\n",
              "       [ 9.87403020e-02, -8.65649506e-02,  2.00000000e+00],\n",
              "       [ 1.02307871e-01, -9.76271406e-02,  2.00000000e+00],\n",
              "       [ 3.53170075e-02, -1.47341609e-01,  2.00000000e+00],\n",
              "       [ 1.47211194e-01, -6.66981861e-02,  2.00000000e+00],\n",
              "       [ 4.12087888e-02, -1.66699201e-01,  2.00000000e+00],\n",
              "       [ 1.71948988e-02, -1.81003273e-01,  2.00000000e+00],\n",
              "       [-8.46738648e-03, -1.91732317e-01,  2.00000000e+00],\n",
              "       [ 5.38081490e-02, -1.94722489e-01,  2.00000000e+00],\n",
              "       [-2.35506496e-03, -2.12108135e-01,  2.00000000e+00],\n",
              "       [ 1.02806143e-01, -1.97011709e-01,  2.00000000e+00],\n",
              "       [-1.98218059e-02, -2.31476083e-01,  2.00000000e+00],\n",
              "       [-3.90205681e-02, -2.39263266e-01,  2.00000000e+00],\n",
              "       [-1.70671359e-01, -1.86119020e-01,  2.00000000e+00],\n",
              "       [-1.49675785e-02, -2.62199402e-01,  2.00000000e+00],\n",
              "       [-2.46275246e-01, -1.17169395e-01,  2.00000000e+00],\n",
              "       [-2.82802194e-01,  3.84074613e-03,  2.00000000e+00],\n",
              "       [ 2.83253267e-02, -2.91556597e-01,  2.00000000e+00],\n",
              "       [-2.87788570e-01, -9.48952213e-02,  2.00000000e+00],\n",
              "       [-3.11801970e-01, -2.88228821e-02,  2.00000000e+00],\n",
              "       [-2.57644355e-01, -1.95188433e-01,  2.00000000e+00],\n",
              "       [-3.03369910e-01, -1.38122424e-01,  2.00000000e+00],\n",
              "       [-3.36989075e-01, -6.62231967e-02,  2.00000000e+00],\n",
              "       [-3.48105639e-01, -6.17228523e-02,  2.00000000e+00],\n",
              "       [-3.62470806e-01, -2.90916972e-02,  2.00000000e+00],\n",
              "       [-2.94659048e-01, -2.29903623e-01,  2.00000000e+00],\n",
              "       [-2.52574891e-01,  2.89029121e-01,  2.00000000e+00],\n",
              "       [-2.39514828e-01,  3.12763333e-01,  2.00000000e+00],\n",
              "       [-4.03000057e-01,  2.89759059e-02,  2.00000000e+00],\n",
              "       [-4.09256548e-01, -6.34207726e-02,  2.00000000e+00],\n",
              "       [-2.49866337e-01,  3.42853397e-01,  2.00000000e+00],\n",
              "       [-3.82498056e-01,  2.05789849e-01,  2.00000000e+00],\n",
              "       [-2.57267565e-01,  3.62414479e-01,  2.00000000e+00],\n",
              "       [-3.08820277e-01,  3.33529025e-01,  2.00000000e+00],\n",
              "       [-6.50715753e-02,  4.60067421e-01,  2.00000000e+00],\n",
              "       [-1.79847870e-02,  4.74406689e-01,  2.00000000e+00],\n",
              "       [-2.92285740e-01,  3.86842459e-01,  2.00000000e+00],\n",
              "       [-3.79872531e-01,  3.17288309e-01,  2.00000000e+00],\n",
              "       [-3.87228787e-01,  3.24237376e-01,  2.00000000e+00],\n",
              "       [ 1.63986370e-01,  4.88353908e-01,  2.00000000e+00],\n",
              "       [-2.40052626e-01,  4.67188358e-01,  2.00000000e+00],\n",
              "       [-1.74569432e-02,  5.35068810e-01,  2.00000000e+00],\n",
              "       [ 1.28972754e-02,  5.45302033e-01,  2.00000000e+00],\n",
              "       [ 2.14566976e-01,  5.12448013e-01,  2.00000000e+00],\n",
              "       [-2.43141785e-01,  5.10734200e-01,  2.00000000e+00],\n",
              "       [ 3.79309624e-01,  4.33152378e-01,  2.00000000e+00],\n",
              "       [ 4.89081442e-01,  3.22536260e-01,  2.00000000e+00],\n",
              "       [ 4.55918461e-01,  3.83804888e-01,  2.00000000e+00],\n",
              "       [ 4.22952592e-01,  4.34074372e-01,  2.00000000e+00],\n",
              "       [ 5.42722702e-01,  2.91731387e-01,  2.00000000e+00],\n",
              "       [ 6.08105421e-01,  1.49708539e-01,  2.00000000e+00],\n",
              "       [-9.84941944e-02,  6.28695130e-01,  2.00000000e+00],\n",
              "       [ 4.77801114e-01, -4.35456812e-01,  2.00000000e+00],\n",
              "       [ 6.55493140e-01, -3.75125781e-02,  2.00000000e+00],\n",
              "       [ 6.23206079e-01,  2.36767083e-01,  2.00000000e+00],\n",
              "       [ 6.70939088e-01,  8.86296406e-02,  2.00000000e+00],\n",
              "       [ 6.29387200e-01, -2.75064319e-01,  2.00000000e+00],\n",
              "       [ 6.81931674e-01, -1.43999904e-01,  2.00000000e+00],\n",
              "       [ 5.63668489e-01,  4.26880330e-01,  2.00000000e+00],\n",
              "       [ 5.04258834e-02, -7.15396762e-01,  2.00000000e+00],\n",
              "       [ 6.33326888e-01, -3.57522994e-01,  2.00000000e+00],\n",
              "       [ 2.80688822e-01, -6.81860566e-01,  2.00000000e+00],\n",
              "       [ 6.80921435e-01, -3.08325350e-01,  2.00000000e+00],\n",
              "       [-5.26939556e-02, -7.55740941e-01,  2.00000000e+00],\n",
              "       [ 3.36947322e-01, -6.89778328e-01,  2.00000000e+00],\n",
              "       [ 1.48519963e-01, -7.63465822e-01,  2.00000000e+00],\n",
              "       [ 6.25964403e-01, -4.78457451e-01,  2.00000000e+00],\n",
              "       [-2.44218364e-01, -7.59690166e-01,  2.00000000e+00],\n",
              "       [-1.21863231e-01, -7.98839152e-01,  2.00000000e+00],\n",
              "       [-4.33502376e-01, -6.93899989e-01,  2.00000000e+00],\n",
              "       [ 2.49161690e-01, -7.89918303e-01,  2.00000000e+00],\n",
              "       [ 1.09521963e-01, -8.31199348e-01,  2.00000000e+00],\n",
              "       [-8.30139816e-01, -1.75483495e-01,  2.00000000e+00],\n",
              "       [ 1.86097726e-01, -8.38174999e-01,  2.00000000e+00],\n",
              "       [-2.93427259e-01, -8.17629099e-01,  2.00000000e+00],\n",
              "       [-7.75876820e-01, -4.12654012e-01,  2.00000000e+00],\n",
              "       [-5.47389388e-01, -7.00348735e-01,  2.00000000e+00],\n",
              "       [-7.59875596e-01, -4.80387270e-01,  2.00000000e+00],\n",
              "       [-5.25881052e-01, -7.41549313e-01,  2.00000000e+00],\n",
              "       [-8.20277393e-01, -4.14799720e-01,  2.00000000e+00],\n",
              "       [-3.31998587e-01, -8.67964447e-01,  2.00000000e+00],\n",
              "       [-8.73120546e-01,  3.46585453e-01,  2.00000000e+00],\n",
              "       [-8.71080399e-01, -3.77835423e-01,  2.00000000e+00],\n",
              "       [-7.97762334e-01, -5.33291399e-01,  2.00000000e+00],\n",
              "       [-9.53144789e-01,  1.78401992e-01,  2.00000000e+00],\n",
              "       [-9.42311406e-01, -2.68427491e-01,  2.00000000e+00],\n",
              "       [-8.09510291e-01, -5.69730699e-01,  2.00000000e+00],\n",
              "       [-8.68569016e-01, -4.95568246e-01,  2.00000000e+00]], dtype=float32)"
            ]
          },
          "metadata": {},
          "execution_count": 24
        }
      ]
    },
    {
      "cell_type": "code",
      "source": [
        "plt.scatter(z[:,:1],z[:,2],c=y,cmap='brg')\n",
        "\n",
        "plt.show()"
      ],
      "metadata": {
        "colab": {
          "base_uri": "https://localhost:8080/",
          "height": 265
        },
        "id": "S8mkZrpH7jtd",
        "outputId": "3e8053dd-5853-4500-a8a0-cc859a78c0ce"
      },
      "execution_count": 25,
      "outputs": [
        {
          "output_type": "display_data",
          "data": {
            "text/plain": [
              "<Figure size 432x288 with 1 Axes>"
            ],
            "image/png": "[encoded data removed]"
          },
          "metadata": {
            "needs_background": "light"
          }
        }
      ]
    },
    {
      "cell_type": "code",
      "source": [
        "dense_1=Layer_Dense(2,3)"
      ],
      "metadata": {
        "id": "uj0HwqG67_E0"
      },
      "execution_count": 62,
      "outputs": []
    },
    {
      "cell_type": "code",
      "source": [
        "dense_1.forward(X)"
      ],
      "metadata": {
        "id": "ax4bAoa63QrY"
      },
      "execution_count": 63,
      "outputs": []
    },
    {
      "cell_type": "code",
      "source": [
        "dense_1.output\n"
      ],
      "metadata": {
        "colab": {
          "base_uri": "https://localhost:8080/"
        },
        "id": "-5Rj-nHl3vyT",
        "outputId": "e9b36e05-5669-4961-db45-41f747727202"
      },
      "execution_count": 64,
      "outputs": [
        {
          "output_type": "execute_result",
          "data": {
            "text/plain": [
              "array([[ 0.00000000e+00,  0.00000000e+00,  0.00000000e+00],\n",
              "       [ 6.17386904e-05,  7.98894253e-05,  1.01996608e-04],\n",
              "       [ 1.18350166e-04,  1.61011441e-04,  2.04378259e-04],\n",
              "       [ 2.94674886e-04,  1.39057389e-04,  2.14139189e-04],\n",
              "       [ 3.63696367e-04,  2.46164185e-04,  3.48196394e-04],\n",
              "       [ 3.99053097e-04,  3.59894533e-04,  4.83127544e-04],\n",
              "       [ 5.55776118e-04,  3.54603224e-04,  5.07812249e-04],\n",
              "       [ 6.59694313e-04,  3.94795876e-04,  5.73371421e-04],\n",
              "       [ 7.51770800e-04,  4.74961853e-05,  2.00441456e-04],\n",
              "       [ 8.26268690e-04,  5.42895752e-04,  7.72644300e-04],\n",
              "       [ 9.97473835e-04,  3.66449007e-04,  6.07502297e-04],\n",
              "       [ 9.49596462e-04,  7.34091620e-04,  1.01197232e-03],\n",
              "       [ 3.49448615e-04,  9.82204685e-04,  1.17392174e-03],\n",
              "       [ 1.18008186e-03, -1.36670669e-05,  2.15332955e-04],\n",
              "       [ 1.12458400e-03, -2.50970246e-04, -6.26335313e-05],\n",
              "       [ 1.49434945e-03,  5.74532140e-04,  9.38871235e-04],\n",
              "       [ 4.82586511e-05, -1.18962943e-03, -1.32965029e-03],\n",
              "       [ 1.65625161e-03,  8.33917758e-04,  1.26249751e-03],\n",
              "       [ 1.45152875e-03, -3.14996112e-04, -7.07823856e-05],\n",
              "       [ 1.54927943e-03, -3.08788120e-04, -4.46832637e-05],\n",
              "       [-1.06613206e-05, -1.51143118e-03, -1.70340016e-03],\n",
              "       [-1.56350841e-04, -1.63113780e-03, -1.86662958e-03],\n",
              "       [ 1.01735326e-03, -1.12997903e-03, -1.07303890e-03],\n",
              "       [ 6.10171992e-04, -1.46777905e-03, -1.53288525e-03],\n",
              "       [ 1.72046258e-03, -6.84404396e-04, -4.34021204e-04],\n",
              "       [ 2.36589229e-03,  1.90057675e-04,  6.76489144e-04],\n",
              "       [ 8.38602253e-04, -1.57483795e-03, -1.60873390e-03],\n",
              "       [-6.52167946e-05, -2.05685408e-03, -2.32801191e-03],\n",
              "       [-1.71883672e-03, -2.23943591e-03, -2.85683013e-03],\n",
              "       [-1.97202223e-03, -2.26011779e-03, -2.92961067e-03],\n",
              "       [-1.65815873e-04, -2.31379131e-03, -2.63689691e-03],\n",
              "       [-6.11600175e-04, -2.49558059e-03, -2.92867981e-03],\n",
              "       [ 2.33682513e-04, -2.32804869e-03, -2.57483986e-03],\n",
              "       [ 5.18185610e-04, -2.28384277e-03, -2.46945699e-03],\n",
              "       [ 6.74564042e-04, -2.28680787e-03, -2.44222139e-03],\n",
              "       [-3.45060392e-03, -7.36413524e-04, -1.50355615e-03],\n",
              "       [-2.03037169e-03, -2.91837170e-03, -3.68197006e-03],\n",
              "       [-2.48298887e-03, -2.89548049e-03, -3.74469394e-03],\n",
              "       [-1.58415537e-03, -3.13282781e-03, -3.83612956e-03],\n",
              "       [-3.89277330e-03, -1.37151533e-03, -2.30489555e-03],\n",
              "       [-1.74505112e-03, -3.29596223e-03, -4.05121548e-03],\n",
              "       [-3.88960354e-03, -2.26374529e-03, -3.30859888e-03],\n",
              "       [-3.55876586e-03, -2.86451355e-03, -3.92016117e-03],\n",
              "       [-4.22012899e-03, -8.14814528e-04, -1.74225622e-03],\n",
              "       [-4.33486653e-03, -1.98735506e-03, -3.08453804e-03],\n",
              "       [-4.14366275e-03, -2.69662007e-03, -3.84552754e-03],\n",
              "       [-4.41351254e-03, -5.15759690e-04, -1.44343870e-03],\n",
              "       [-3.84740368e-03,  7.42739823e-04,  8.38486085e-05],\n",
              "       [-4.13572136e-03,  4.46110527e-04, -3.06415750e-04],\n",
              "       [-3.58404731e-03,  1.31661049e-03,  7.81304610e-04],\n",
              "       [-4.63364227e-03, -1.46064733e-04, -1.07033551e-03],\n",
              "       [-4.14989982e-03,  8.41017929e-04,  1.35332783e-04],\n",
              "       [-4.38707042e-03,  6.30162656e-04, -1.48381761e-04],\n",
              "       [-3.60348355e-03,  1.72172813e-03,  1.23351824e-03],\n",
              "       [-4.13779821e-03,  1.22696639e-03,  5.72134857e-04],\n",
              "       [-5.17635280e-03, -3.45976761e-04, -1.40146795e-03],\n",
              "       [-9.87604493e-04,  3.82558117e-03,  4.11311211e-03],\n",
              "       [-2.03758641e-03,  3.33150523e-03,  3.35168303e-03],\n",
              "       [-4.46090987e-03,  1.29721907e-03,  5.88042254e-04],\n",
              "       [ 1.56069663e-03,  4.81099915e-03,  5.72054693e-03],\n",
              "       [-1.86104397e-03,  3.67775746e-03,  3.77595122e-03],\n",
              "       [ 1.59363507e-03,  4.97152470e-03,  5.90767944e-03],\n",
              "       [ 4.00833460e-03,  4.90200566e-03,  6.30152319e-03],\n",
              "       [ 3.04476451e-03,  5.17405663e-03,  6.41936529e-03],\n",
              "       [ 5.72774559e-03,  4.05369326e-03,  5.68279624e-03],\n",
              "       [ 1.64813391e-04,  4.95414995e-03,  5.60877426e-03],\n",
              "       [ 5.34086442e-03,  4.69997199e-03,  6.33462938e-03],\n",
              "       [ 3.22135095e-03,  5.50394086e-03,  6.82521798e-03],\n",
              "       [ 3.31702642e-03,  5.58206299e-03,  6.93186047e-03],\n",
              "       [ 4.73324163e-03,  5.36212046e-03,  6.96116919e-03],\n",
              "       [ 5.85099310e-03,  4.84234607e-03,  6.59462530e-03],\n",
              "       [ 6.78502815e-03,  3.81839648e-03,  5.62464725e-03],\n",
              "       [ 4.99040075e-03,  5.57538494e-03,  7.25150388e-03],\n",
              "       [ 6.89407950e-03,  5.18333167e-04,  1.93130947e-03],\n",
              "       [ 7.21996324e-03,  1.22886978e-03,  2.79482594e-03],\n",
              "       [ 5.79426950e-03,  5.51872700e-03,  7.34489132e-03],\n",
              "       [ 4.55311313e-03, -3.06188804e-03, -2.55638408e-03],\n",
              "       [ 2.55451305e-03, -4.62163985e-03, -4.70283628e-03],\n",
              "       [ 4.37323842e-03, -3.40416958e-03, -2.97683454e-03],\n",
              "       [ 7.27661280e-03,  1.33775335e-04,  1.57322770e-03],\n",
              "       [ 7.97674898e-03,  2.35411292e-03,  4.20939457e-03],\n",
              "       [ 2.81405495e-03, -4.78468370e-03, -4.83562099e-03],\n",
              "       [ 6.81395223e-03, -1.14960130e-03,  3.81629725e-05],\n",
              "       [ 5.74465259e-04, -6.05066167e-03, -6.69850688e-03],\n",
              "       [ 3.83899081e-03, -4.34745941e-03, -4.14308254e-03],\n",
              "       [-8.26607065e-05, -6.43585436e-03, -7.26056704e-03],\n",
              "       [ 1.70071027e-03, -5.78697724e-03, -6.18150411e-03],\n",
              "       [-6.65829226e-04, -6.76258234e-03, -7.74235697e-03],\n",
              "       [ 1.48905977e-03, -6.04099408e-03, -6.50881324e-03],\n",
              "       [-6.48726756e-03, -6.75410451e-03, -8.87096021e-03],\n",
              "       [-8.06987926e-04, -7.02782953e-03, -8.06852616e-03],\n",
              "       [-2.93106609e-03, -7.47383060e-03, -8.98583606e-03],\n",
              "       [-8.45786557e-03, -5.53294737e-03, -7.88165629e-03],\n",
              "       [ 3.13486275e-03, -5.55212190e-03, -5.63675305e-03],\n",
              "       [ 1.90805900e-03, -6.30127219e-03, -6.71987236e-03],\n",
              "       [-8.06351472e-03, -6.46698801e-03, -8.85594357e-03],\n",
              "       [-4.40466567e-04, -7.37745315e-03, -8.39041546e-03],\n",
              "       [-9.59725305e-03, -2.22694851e-03, -4.38307784e-03],\n",
              "       [-5.74670499e-03, -7.90097099e-03, -1.00171231e-02],\n",
              "       [-5.26585616e-03, -8.07686150e-03, -1.01211006e-02],\n",
              "       [ 0.00000000e+00,  0.00000000e+00,  0.00000000e+00],\n",
              "       [-9.77315649e-05, -1.72441469e-05, -3.85180028e-05],\n",
              "       [-1.75187204e-04,  1.38079031e-05, -1.87081132e-05],\n",
              "       [-2.97346240e-04, -7.21317701e-05, -1.39327822e-04],\n",
              "       [-3.15058627e-04, -2.90645636e-04, -3.88757035e-04],\n",
              "       [-3.38802056e-04,  1.63615739e-04,  1.17932206e-04],\n",
              "       [-5.91101765e-04, -2.71072611e-04, -4.20694007e-04],\n",
              "       [-6.22146472e-04,  3.24948633e-05, -8.50581710e-05],\n",
              "       [-6.37569814e-04,  1.50208245e-04,  4.44284051e-05],\n",
              "       [-8.81322601e-04, -1.62215409e-04, -3.54901713e-04],\n",
              "       [-7.75155437e-04,  2.16084431e-04,  9.16814970e-05],\n",
              "       [-6.50425151e-04,  4.50844847e-04,  3.80321377e-04],\n",
              "       [-8.64218979e-04,  3.37748235e-04,  2.11217441e-04],\n",
              "       [-1.28731097e-03, -3.04997811e-04, -5.94996731e-04],\n",
              "       [-8.37865402e-04,  5.64811460e-04,  4.71959560e-04],\n",
              "       [-4.14587194e-05,  1.11662503e-03,  1.24880369e-03],\n",
              "       [-1.28737965e-03,  2.83912552e-04,  6.78863944e-05],\n",
              "       [-9.06881352e-04,  7.80282775e-04,  7.01007782e-04],\n",
              "       [-1.02279568e-03,  7.74004206e-04,  6.71278103e-04],\n",
              "       [ 1.12953212e-03,  1.52844586e-03,  1.94130221e-03],\n",
              "       [ 2.99037318e-04,  1.59084285e-03,  1.84916868e-03],\n",
              "       [ 2.48737633e-04,  1.65524695e-03,  1.91183004e-03],\n",
              "       [-7.91779836e-04,  1.28250511e-03,  1.28882891e-03],\n",
              "       [ 8.66317598e-04,  1.89552305e-03,  2.30303523e-03],\n",
              "       [-2.84371345e-04,  1.70162425e-03,  1.85980613e-03],\n",
              "       [ 8.20958114e-04,  2.05441494e-03,  2.47302093e-03],\n",
              "       [ 2.65123439e-04,  2.03862693e-03,  2.34657852e-03],\n",
              "       [ 2.04201532e-03,  2.01154337e-03,  2.66349129e-03],\n",
              "       [ 2.20808457e-03,  2.03281711e-03,  2.71990569e-03],\n",
              "       [ 1.68026960e-03,  2.34227721e-03,  2.96505122e-03],\n",
              "       [ 2.55587767e-03,  2.03371793e-03,  2.78891646e-03],\n",
              "       [ 1.14446238e-03,  2.55413516e-03,  3.09877028e-03],\n",
              "       [ 8.84990208e-04,  2.61404202e-03,  3.11547401e-03],\n",
              "       [ 3.21265939e-03,  1.62605569e-03,  2.45844596e-03],\n",
              "       [ 3.28131882e-03,  1.75371917e-03,  2.61557149e-03],\n",
              "       [ 3.48441489e-03,  9.64250299e-04,  1.76662696e-03],\n",
              "       [ 1.78498821e-03, -1.75919768e-03, -1.63122790e-03],\n",
              "       [ 3.35359666e-03, -4.89716986e-05,  6.00535364e-04],\n",
              "       [ 3.50210140e-03,  2.27271579e-03,  3.24293599e-03],\n",
              "       [ 2.92468350e-03, -9.63600003e-04, -5.12856408e-04],\n",
              "       [ 3.68715590e-03,  2.39124778e-03,  3.41253914e-03],\n",
              "       [ 4.05698735e-03,  9.43758641e-04,  1.85550423e-03],\n",
              "       [ 3.80908605e-03, -5.10534519e-05,  6.87244523e-04],\n",
              "       [ 6.31036412e-04, -2.99581676e-03, -3.24881473e-03],\n",
              "       [ 4.20302292e-03,  4.39674041e-04,  1.31664157e-03],\n",
              "       [ 4.21215640e-03,  2.27390439e-04,  1.07947399e-03],\n",
              "       [ 3.13191582e-03, -1.48980285e-03, -1.06465153e-03],\n",
              "       [ 3.76699632e-03, -8.53907142e-04, -2.24702570e-04],\n",
              "       [-3.07368056e-04, -3.71422525e-03, -4.24094545e-03],\n",
              "       [ 3.94532457e-03, -8.65768641e-04, -2.03189353e-04],\n",
              "       [ 3.81839648e-03, -1.15200330e-03, -5.50200057e-04],\n",
              "       [ 2.05312949e-03, -2.83241156e-03, -2.78684823e-03],\n",
              "       [ 1.75153697e-03, -3.10519221e-03, -3.15286312e-03],\n",
              "       [-4.36706888e-03, -3.71640595e-03, -5.03710937e-03],\n",
              "       [-2.96204933e-03, -4.39195242e-03, -5.52283227e-03],\n",
              "       [-1.36767433e-03, -4.47319122e-03, -5.30256191e-03],\n",
              "       [ 1.67247269e-03, -3.46972747e-03, -3.57865333e-03],\n",
              "       [-4.20780201e-03, -4.30001412e-03, -5.66289946e-03],\n",
              "       [-6.28591588e-05, -4.39363206e-03, -4.95790364e-03],\n",
              "       [ 9.40903905e-04, -4.07665176e-03, -4.40485543e-03],\n",
              "       [-5.78335859e-03, -3.11271893e-03, -4.63447766e-03],\n",
              "       [-5.03238384e-03, -4.27264068e-03, -5.79330092e-03],\n",
              "       [-6.07252354e-03, -2.93725403e-03, -4.49350337e-03],\n",
              "       [-5.80474734e-03, -3.76994372e-03, -5.37845306e-03],\n",
              "       [-6.38791267e-03, -2.25760019e-03, -3.79012455e-03],\n",
              "       [-5.05332835e-03, -4.76406375e-03, -6.35055732e-03],\n",
              "       [-4.73594386e-03, -5.04302932e-03, -6.60251826e-03],\n",
              "       [-6.56904560e-03, -1.24152482e-03, -2.68181018e-03],\n",
              "       [-6.10919017e-03, -4.27871384e-03, -6.01066230e-03],\n",
              "       [-6.59458758e-03, -3.70935141e-03, -5.46466932e-03],\n",
              "       [-6.96912780e-03, -2.72750505e-03, -4.43269731e-03],\n",
              "       [-6.84688613e-03, -9.01985099e-04, -2.35393387e-03],\n",
              "       [-7.07600545e-03, -1.40778290e-03, -2.96807126e-03],\n",
              "       [-7.09302025e-03, -3.63725075e-03, -5.48095861e-03],\n",
              "       [-7.18615111e-03, -1.10561564e-03, -2.64947652e-03],\n",
              "       [-6.72848988e-03, -4.73084254e-03, -6.64067222e-03],\n",
              "       [-3.63680627e-03,  3.81333195e-03,  3.58138024e-03],\n",
              "       [-7.67485425e-03, -2.22700345e-03, -4.00729291e-03],\n",
              "       [-7.14797620e-03, -5.50280602e-05, -1.45943754e-03],\n",
              "       [-3.66565119e-03,  4.04858310e-03,  3.84054682e-03],\n",
              "       [-5.60712442e-03,  2.42132274e-03,  1.62927399e-03],\n",
              "       [ 3.62009346e-03,  6.67103054e-03,  8.21688958e-03],\n",
              "       [-6.16603345e-03,  2.00605788e-03,  1.05256645e-03],\n",
              "       [ 2.33231345e-04,  6.33322168e-03,  7.17447791e-03],\n",
              "       [-2.01338000e-04,  6.26400812e-03,  7.01160682e-03],\n",
              "       [-3.97459650e-03,  4.33369679e-03,  4.10107849e-03],\n",
              "       [ 3.80651420e-03,  7.08435848e-03,  8.71859211e-03],\n",
              "       [ 1.83530070e-03,  7.02471333e-03,  8.26606341e-03],\n",
              "       [ 6.21384243e-03,  6.76772092e-03,  8.83283000e-03],\n",
              "       [ 7.02882884e-03,  6.45487709e-03,  8.64002015e-03],\n",
              "       [ 8.92907288e-03,  2.22281669e-03,  4.24779160e-03],\n",
              "       [ 8.90493393e-03,  4.33850754e-03,  6.62456220e-03],\n",
              "       [ 5.33058168e-03,  7.43065774e-03,  9.40636732e-03],\n",
              "       [ 6.56339247e-03,  7.15372711e-03,  9.33567155e-03],\n",
              "       [ 9.38417576e-03,  3.24475439e-03,  5.48709463e-03],\n",
              "       [ 9.39698238e-03,  4.11516428e-03,  6.46936009e-03],\n",
              "       [ 9.57610086e-03,  3.51191987e-03,  5.82534773e-03],\n",
              "       [ 4.64556785e-03,  7.96983857e-03,  9.87935998e-03],\n",
              "       [ 9.63826757e-03,  4.49495576e-03,  6.94403891e-03],\n",
              "       [ 8.98865703e-03,  6.10953989e-03,  8.63446202e-03],\n",
              "       [ 0.00000000e+00,  0.00000000e+00,  0.00000000e+00],\n",
              "       [ 9.98399773e-05,  3.39819926e-05,  5.77708779e-05],\n",
              "       [ 1.65134916e-04, -2.95814025e-05, -1.01236560e-06],\n",
              "       [ 2.75694969e-04,  3.73636476e-06,  5.81067143e-05],\n",
              "       [ 2.95679318e-04, -1.03888880e-04, -5.91326207e-05],\n",
              "       [ 4.88057733e-04,  8.38829292e-05,  1.89841187e-04],\n",
              "       [ 5.97427657e-04,  1.66333411e-04,  3.04032961e-04],\n",
              "       [ 6.31726638e-04, -1.46007606e-05,  1.07073371e-04],\n",
              "       [ 5.90086507e-04, -2.09258505e-04, -1.20180717e-04],\n",
              "       [ 4.55926172e-04, -4.32321569e-04, -3.97497293e-04],\n",
              "       [-4.86494217e-04, -8.21006077e-04, -1.01926515e-03],\n",
              "       [ 5.65440860e-04, -5.21971611e-04, -4.76999179e-04],\n",
              "       [ 9.36025812e-04, -2.51874619e-04, -1.00516416e-04],\n",
              "       [ 6.11619500e-04, -6.60047575e-04, -6.23393571e-04],\n",
              "       [ 6.06064452e-04, -7.48559367e-04, -7.24111393e-04],\n",
              "       [-1.86843419e-04, -1.18453626e-03, -1.36988203e-03],\n",
              "       [ 1.12919870e-03, -4.75839945e-04, -3.14851932e-04],\n",
              "       [-1.99811344e-04, -1.33958354e-03, -1.54694356e-03],\n",
              "       [-4.71784326e-04, -1.46720512e-03, -1.74377172e-03],\n",
              "       [-7.46544800e-04, -1.56644976e-03, -1.90920301e-03],\n",
              "       [-1.80938019e-04, -1.56216731e-03, -1.79380120e-03],\n",
              "       [-7.61021511e-04, -1.72969373e-03, -2.09578592e-03],\n",
              "       [ 2.64298840e-04, -1.55828102e-03, -1.70237862e-03],\n",
              "       [-9.90084140e-04, -1.89557194e-03, -2.32728780e-03],\n",
              "       [-1.19480619e-03, -1.96786784e-03, -2.44869129e-03],\n",
              "       [-2.22731452e-03, -1.59532891e-03, -2.23121466e-03],\n",
              "       [-1.05226086e-03, -2.14372342e-03, -2.61877128e-03],\n",
              "       [-2.68632267e-03, -1.06819591e-03, -1.72759709e-03],\n",
              "       [-2.60244100e-03, -9.88088941e-05, -6.20023988e-04],\n",
              "       [-7.54131295e-04, -2.36305688e-03, -2.80737295e-03],\n",
              "       [-2.99267727e-03, -9.05768014e-04, -1.60465820e-03],\n",
              "       [-2.98451842e-03, -3.78348515e-04, -1.00938254e-03],\n",
              "       [-3.06339446e-03, -1.70925551e-03, -2.52291560e-03],\n",
              "       [-3.28745460e-03, -1.26522384e-03, -2.06690491e-03],\n",
              "       [-3.34783806e-03, -6.94736489e-04, -1.43655145e-03],\n",
              "       [-3.43497819e-03, -6.63174607e-04, -1.41806109e-03],\n",
              "       [-3.45412525e-03, -4.03850659e-04, -1.12990115e-03],\n",
              "       [-3.52675747e-03, -2.00920226e-03, -2.95113702e-03],\n",
              "       [-1.32891175e-03,  2.23928760e-03,  2.26079975e-03],\n",
              "       [-1.12539215e-03,  2.43872195e-03,  2.52507976e-03],\n",
              "       [-3.62663064e-03,  5.07344303e-05, -6.51931856e-04],\n",
              "       [-4.00652131e-03, -7.05145998e-04, -1.57704751e-03],\n",
              "       [-1.11627043e-03,  2.67918338e-03,  2.79753422e-03],\n",
              "       [-2.82076304e-03,  1.50114123e-03,  1.13824755e-03],\n",
              "       [-1.11655518e-03,  2.83519458e-03,  2.97308993e-03],\n",
              "       [-1.69407215e-03,  2.57606991e-03,  2.56850058e-03],\n",
              "       [ 1.00153359e-03,  3.71945766e-03,  4.38255072e-03],\n",
              "       [ 1.48704590e-03,  3.85798118e-03,  4.63339966e-03],\n",
              "       [-1.35532545e-03,  3.01816361e-03,  3.13236378e-03],\n",
              "       [-2.40788399e-03,  2.41102418e-03,  2.24316306e-03],\n",
              "       [-2.45170807e-03,  2.46427231e-03,  2.29453295e-03],\n",
              "       [ 3.21882754e-03,  4.05536639e-03,  5.19416248e-03],\n",
              "       [-5.92165452e-04,  3.69698671e-03,  4.04567411e-03],\n",
              "       [ 1.70334755e-03,  4.35259985e-03,  5.23244776e-03],\n",
              "       [ 2.01977883e-03,  4.44996264e-03,  5.40390750e-03],\n",
              "       [ 3.77065409e-03,  4.27499600e-03,  5.54927206e-03],\n",
              "       [-4.68973449e-04,  4.05044947e-03,  4.46762843e-03],\n",
              "       [ 5.01810852e-03,  3.70455673e-03,  5.15105622e-03],\n",
              "       [ 5.64794289e-03,  2.85357563e-03,  4.31630248e-03],\n",
              "       [ 5.55472914e-03,  3.33763706e-03,  4.84295376e-03],\n",
              "       [ 5.42500475e-03,  3.73214972e-03,  5.26166754e-03],\n",
              "       [ 6.03674585e-03,  2.62720510e-03,  4.13750717e-03],\n",
              "       [ 6.14653714e-03,  1.49984739e-03,  2.88998219e-03],\n",
              "       [ 1.28008565e-03,  5.07833995e-03,  5.96661260e-03],\n",
              "       [ 2.90185097e-03, -3.32900370e-03, -3.17989523e-03],\n",
              "       [ 5.93235623e-03, -4.14016995e-06,  1.15517073e-03],\n",
              "       [ 6.58962922e-03,  2.21629278e-03,  3.78306489e-03],\n",
              "       [ 6.51485613e-03,  1.03098294e-03,  2.43422296e-03],\n",
              "       [ 4.86297114e-03, -1.95211789e-03, -1.24661077e-03],\n",
              "       [ 5.80577459e-03, -8.59812542e-04,  1.67250430e-04],\n",
              "       [ 6.70150761e-03,  3.73826036e-03,  5.51811419e-03],\n",
              "       [-2.02687364e-03, -5.80704398e-03, -6.93286955e-03],\n",
              "       [ 4.61202720e-03, -2.62231589e-03, -2.05006916e-03],\n",
              "       [ 2.19862588e-04, -5.42779779e-03, -6.06671954e-03],\n",
              "       [ 5.22372453e-03, -2.19947472e-03, -1.45451282e-03],\n",
              "       [-3.12130526e-03, -6.18327828e-03, -7.57034263e-03],\n",
              "       [ 7.12640176e-04, -5.46644162e-03, -6.01387583e-03],\n",
              "       [-1.28706580e-03, -6.15366036e-03, -7.17839273e-03],\n",
              "       [ 4.12244676e-03, -3.61127849e-03, -3.25899501e-03],\n",
              "       [-4.90660639e-03, -6.30357862e-03, -8.05479940e-03],\n",
              "       [-3.91130382e-03, -6.56633731e-03, -8.15597828e-03],\n",
              "       [-6.42812951e-03, -5.85449487e-03, -7.84676801e-03],\n",
              "       [-4.48355102e-04, -6.32293662e-03, -7.20495963e-03],\n",
              "       [-1.88384880e-03, -6.72360789e-03, -7.93662108e-03],\n",
              "       [-8.29011295e-03, -1.81205664e-03, -3.66050401e-03],\n",
              "       [-1.19985978e-03, -6.74522668e-03, -7.82722887e-03],\n",
              "       [-5.56370104e-03, -6.79840101e-03, -8.74025561e-03],\n",
              "       [-8.61478318e-03, -3.71995196e-03, -5.87156881e-03],\n",
              "       [-7.50402175e-03, -5.95944654e-03, -8.17525201e-03],\n",
              "       [-8.70284066e-03, -4.26459359e-03, -6.50185114e-03],\n",
              "       [-7.44866859e-03, -6.28532190e-03, -8.53124633e-03],\n",
              "       [-9.03295167e-03, -3.75786633e-03, -5.99600235e-03],\n",
              "       [-6.09590113e-03, -7.22636282e-03, -9.32603329e-03],\n",
              "       [-6.86815893e-03,  2.42285593e-03,  1.38445583e-03],\n",
              "       [-9.37403552e-03, -3.47999274e-03, -5.74990362e-03],\n",
              "       [-9.23766103e-03, -4.71317535e-03, -7.11135147e-03],\n",
              "       [-8.19450803e-03,  1.01540016e-03, -4.59135714e-04],\n",
              "       [-9.65159014e-03, -2.62112613e-03, -4.83740075e-03],\n",
              "       [-9.47332382e-03, -5.01554832e-03, -7.49778654e-03],\n",
              "       [-9.76112764e-03, -4.43832017e-03, -6.90430868e-03]], dtype=float32)"
            ]
          },
          "metadata": {},
          "execution_count": 64
        }
      ]
    },
    {
      "cell_type": "code",
      "source": [
        "dense_1.output.shape"
      ],
      "metadata": {
        "colab": {
          "base_uri": "https://localhost:8080/"
        },
        "id": "TcivcqKL8NvZ",
        "outputId": "1fc5d2ea-9394-48b1-cd16-8d8017f66d58"
      },
      "execution_count": 53,
      "outputs": [
        {
          "output_type": "execute_result",
          "data": {
            "text/plain": [
              "(300, 3)"
            ]
          },
          "metadata": {},
          "execution_count": 53
        }
      ]
    },
    {
      "cell_type": "code",
      "source": [
        "X.shape #input"
      ],
      "metadata": {
        "colab": {
          "base_uri": "https://localhost:8080/"
        },
        "id": "f8keK81qYTXb",
        "outputId": "47e8c1ee-8591-4318-f82c-ba3e43a761ec"
      },
      "execution_count": 54,
      "outputs": [
        {
          "output_type": "execute_result",
          "data": {
            "text/plain": [
              "(300, 2)"
            ]
          },
          "metadata": {},
          "execution_count": 54
        }
      ]
    },
    {
      "cell_type": "code",
      "source": [
        "dense_1.weights.shape"
      ],
      "metadata": {
        "colab": {
          "base_uri": "https://localhost:8080/"
        },
        "id": "i4hsPmRwYb_9",
        "outputId": "fdf9bae7-2bd9-4223-feb0-403beef8d9ad"
      },
      "execution_count": 55,
      "outputs": [
        {
          "output_type": "execute_result",
          "data": {
            "text/plain": [
              "(2, 3)"
            ]
          },
          "metadata": {},
          "execution_count": 55
        }
      ]
    },
    {
      "cell_type": "code",
      "source": [
        "dense_1.biases.shape"
      ],
      "metadata": {
        "colab": {
          "base_uri": "https://localhost:8080/"
        },
        "id": "99hpGkTgYeaG",
        "outputId": "ce5cc4a2-4d10-4e0d-bb8c-cb540885f17b"
      },
      "execution_count": 33,
      "outputs": [
        {
          "output_type": "execute_result",
          "data": {
            "text/plain": [
              "(1, 3)"
            ]
          },
          "metadata": {},
          "execution_count": 33
        }
      ]
    },
    {
      "cell_type": "code",
      "source": [],
      "metadata": {
        "id": "-cdOD1XyYk-Z"
      },
      "execution_count": null,
      "outputs": []
    }
  ]
}