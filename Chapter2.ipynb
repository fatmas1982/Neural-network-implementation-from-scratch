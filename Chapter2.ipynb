{
  "nbformat": 4,
  "nbformat_minor": 0,
  "metadata": {
    "colab": {
      "provenance": [],
      "collapsed_sections": [],
      "authorship_tag": "ABX9TyPdS1QU7SkAFw4CjNeaDfM7",
      "include_colab_link": true
    },
    "kernelspec": {
      "name": "python3",
      "display_name": "Python 3"
    },
    "language_info": {
      "name": "python"
    }
  },
  "cells": [
    {
      "cell_type": "markdown",
      "metadata": {
        "id": "view-in-github",
        "colab_type": "text"
      },
      "source": [
        "<a href=\"https://colab.research.google.com/github/fatmas1982/Neural-network-implementation-from-scratch/blob/main/Chapter2.ipynb\" target=\"_parent\"><img src=\"https://colab.research.google.com/assets/colab-badge.svg\" alt=\"Open In Colab\"/></a>"
      ]
    },
    {
      "cell_type": "markdown",
      "source": [
        "#**Coding Our First Neurons**"
      ],
      "metadata": {
        "id": "zDETzpffIvKE"
      }
    },
    {
      "cell_type": "markdown",
      "source": [
        "**حاصل الضرب القياسي بدلالة المكونات**\n"
      ],
      "metadata": {
        "id": "1HM0MT9SUYf5"
      }
    },
    {
      "cell_type": "markdown",
      "source": [
        "الضرب القياسي scalar product (a single value/number)\n",
        "\n",
        "او الضرب النقطي dot product (element wise)"
      ],
      "metadata": {
        "id": "E6piKxD0VYC0"
      }
    },
    {
      "cell_type": "code",
      "execution_count": 76,
      "metadata": {
        "id": "-_Gl3TYKBbOv"
      },
      "outputs": [],
      "source": [
        "inputs=[1,2,3]\n",
        "weights=[0.2,0.8,-0.5]\n",
        "bias=2"
      ]
    },
    {
      "cell_type": "code",
      "source": [
        "output=(inputs[0]*weights[0]+\n",
        "        inputs[1]*weights[1]+\n",
        "        inputs[2]*weights[2] +\n",
        "        bias) \n",
        "\n",
        "print(output)"
      ],
      "metadata": {
        "colab": {
          "base_uri": "https://localhost:8080/"
        },
        "id": "21ICNvR2I7h-",
        "outputId": "47e1d857-3f9e-415e-a140-2d606463786c"
      },
      "execution_count": 78,
      "outputs": [
        {
          "output_type": "stream",
          "name": "stdout",
          "text": [
            "2.3\n"
          ]
        }
      ]
    },
    {
      "cell_type": "code",
      "source": [
        "import numpy as np\n"
      ],
      "metadata": {
        "id": "pbxcm1dpJ1X9"
      },
      "execution_count": 79,
      "outputs": []
    },
    {
      "cell_type": "code",
      "source": [
        "output_np=np.dot(inputs,weights)+bias"
      ],
      "metadata": {
        "id": "Gd_ihdoEYNVF"
      },
      "execution_count": 80,
      "outputs": []
    },
    {
      "cell_type": "code",
      "source": [
        "output_np"
      ],
      "metadata": {
        "colab": {
          "base_uri": "https://localhost:8080/"
        },
        "id": "WdxFYlX8YUqL",
        "outputId": "b2a693fe-0a59-4abf-92e7-fe9a9c64fb6b"
      },
      "execution_count": 81,
      "outputs": [
        {
          "output_type": "execute_result",
          "data": {
            "text/plain": [
              "2.3"
            ]
          },
          "metadata": {},
          "execution_count": 81
        }
      ]
    },
    {
      "cell_type": "markdown",
      "source": [
        "##**A Layer of Neurons with NumPy**"
      ],
      "metadata": {
        "id": "HlbYbA-bYmLl"
      }
    },
    {
      "cell_type": "code",
      "source": [
        "import numpy as np\n"
      ],
      "metadata": {
        "id": "fMhP579RcdH9"
      },
      "execution_count": 1,
      "outputs": []
    },
    {
      "cell_type": "code",
      "source": [
        "i=[1,2,3,2.5]\n",
        "w=[[.2,.8,-.5,1],\n",
        "   [.5,-.91,.26,-.5],\n",
        "   [-.26,-.27,.17,.87]]\n",
        "b=[2,3,.5]"
      ],
      "metadata": {
        "id": "0AcDod20YgGq"
      },
      "execution_count": 82,
      "outputs": []
    },
    {
      "cell_type": "code",
      "source": [
        "i"
      ],
      "metadata": {
        "colab": {
          "base_uri": "https://localhost:8080/"
        },
        "id": "ROEWDxD8s6Ti",
        "outputId": "2d254113-a88e-4320-ab65-dcd93279a286"
      },
      "execution_count": 87,
      "outputs": [
        {
          "output_type": "execute_result",
          "data": {
            "text/plain": [
              "[1, 2, 3, 2.5]"
            ]
          },
          "metadata": {},
          "execution_count": 87
        }
      ]
    },
    {
      "cell_type": "code",
      "source": [
        "w"
      ],
      "metadata": {
        "colab": {
          "base_uri": "https://localhost:8080/"
        },
        "id": "HL1oBQM1sxp3",
        "outputId": "ab09a055-684c-483b-e70d-49d506e57a37"
      },
      "execution_count": 84,
      "outputs": [
        {
          "output_type": "execute_result",
          "data": {
            "text/plain": [
              "[[0.2, 0.8, -0.5, 1], [0.5, -0.91, 0.26, -0.5], [-0.26, -0.27, 0.17, 0.87]]"
            ]
          },
          "metadata": {},
          "execution_count": 84
        }
      ]
    },
    {
      "cell_type": "code",
      "source": [
        "np.transpose(w)"
      ],
      "metadata": {
        "colab": {
          "base_uri": "https://localhost:8080/"
        },
        "id": "jeEzzOtPs1dU",
        "outputId": "cf97d4f5-f6e1-4e24-d4ae-f29eea7f4480"
      },
      "execution_count": 86,
      "outputs": [
        {
          "output_type": "execute_result",
          "data": {
            "text/plain": [
              "array([[ 0.2 ,  0.5 , -0.26],\n",
              "       [ 0.8 , -0.91, -0.27],\n",
              "       [-0.5 ,  0.26,  0.17],\n",
              "       [ 1.  , -0.5 ,  0.87]])"
            ]
          },
          "metadata": {},
          "execution_count": 86
        }
      ]
    },
    {
      "cell_type": "code",
      "source": [
        "i"
      ],
      "metadata": {
        "colab": {
          "base_uri": "https://localhost:8080/"
        },
        "id": "1S45GQ1GdOcW",
        "outputId": "881c3931-9d3a-4186-d178-74b114c713d3"
      },
      "execution_count": 83,
      "outputs": [
        {
          "output_type": "execute_result",
          "data": {
            "text/plain": [
              "[1, 2, 3, 2.5]"
            ]
          },
          "metadata": {},
          "execution_count": 83
        }
      ]
    },
    {
      "cell_type": "code",
      "source": [
        "o=np.dot(i,np.transpose(w))+b"
      ],
      "metadata": {
        "id": "BzXktgzXZsrb"
      },
      "execution_count": 88,
      "outputs": []
    },
    {
      "cell_type": "code",
      "source": [
        "o"
      ],
      "metadata": {
        "colab": {
          "base_uri": "https://localhost:8080/"
        },
        "id": "IEVWL2qQZtG-",
        "outputId": "1435f21a-6be8-47a7-b21a-68b7ec850a59"
      },
      "execution_count": 89,
      "outputs": [
        {
          "output_type": "execute_result",
          "data": {
            "text/plain": [
              "array([4.8  , 1.21 , 2.385])"
            ]
          },
          "metadata": {},
          "execution_count": 89
        }
      ]
    },
    {
      "cell_type": "code",
      "source": [
        "1*.2+2*.8+3*-.5+2.5*1+2"
      ],
      "metadata": {
        "colab": {
          "base_uri": "https://localhost:8080/"
        },
        "id": "COsNmydwZufN",
        "outputId": "ccaf00b9-e119-42fc-c159-f6abb6834e7d"
      },
      "execution_count": 75,
      "outputs": [
        {
          "output_type": "execute_result",
          "data": {
            "text/plain": [
              "4.8"
            ]
          },
          "metadata": {},
          "execution_count": 75
        }
      ]
    },
    {
      "cell_type": "code",
      "source": [
        "o=np.dot(w,i)+b"
      ],
      "metadata": {
        "id": "Q4vGvH3jg9Rr"
      },
      "execution_count": 90,
      "outputs": []
    },
    {
      "cell_type": "code",
      "source": [
        "o"
      ],
      "metadata": {
        "colab": {
          "base_uri": "https://localhost:8080/"
        },
        "id": "epXZJDnZtmg5",
        "outputId": "c575508a-58f7-40e1-d743-5d611f738e43"
      },
      "execution_count": 91,
      "outputs": [
        {
          "output_type": "execute_result",
          "data": {
            "text/plain": [
              "array([4.8  , 1.21 , 2.385])"
            ]
          },
          "metadata": {},
          "execution_count": 91
        }
      ]
    },
    {
      "cell_type": "markdown",
      "source": [
        "##**A Batch of Data**"
      ],
      "metadata": {
        "id": "FjtxP76CveiM"
      }
    },
    {
      "cell_type": "code",
      "source": [
        "import numpy as np"
      ],
      "metadata": {
        "id": "xGrtld9oFOWL"
      },
      "execution_count": 37,
      "outputs": []
    },
    {
      "cell_type": "code",
      "source": [
        "a=[1,2,3]\n",
        "print(type(a))\n",
        "print(len(a))\n",
        "print(a)\n",
        "b=np.array(a)\n",
        "print(type(b))\n",
        "print(b)\n",
        "print(b.shape)\n",
        "print(b.size)\n",
        "print(len(b))"
      ],
      "metadata": {
        "colab": {
          "base_uri": "https://localhost:8080/"
        },
        "id": "PCj6BqL7tnKE",
        "outputId": "e84281e5-3abe-497f-96ea-daed78b2ce47"
      },
      "execution_count": 24,
      "outputs": [
        {
          "output_type": "stream",
          "name": "stdout",
          "text": [
            "<class 'list'>\n",
            "3\n",
            "[1, 2, 3]\n",
            "<class 'numpy.ndarray'>\n",
            "[1 2 3]\n",
            "(3,)\n",
            "3\n",
            "3\n"
          ]
        }
      ]
    },
    {
      "cell_type": "code",
      "source": [
        "c=np.expand_dims(a,axis=0)\n",
        "print(type(c))\n",
        "print(c)\n",
        "print(c.shape)\n",
        "print(c.size)\n",
        "print(len(c))"
      ],
      "metadata": {
        "colab": {
          "base_uri": "https://localhost:8080/"
        },
        "id": "y_e8cbYAGVoH",
        "outputId": "0cfb7ae5-adcf-4d6e-d761-3c53186894a2"
      },
      "execution_count": 25,
      "outputs": [
        {
          "output_type": "stream",
          "name": "stdout",
          "text": [
            "<class 'numpy.ndarray'>\n",
            "[[1 2 3]]\n",
            "(1, 3)\n",
            "3\n",
            "1\n"
          ]
        }
      ]
    },
    {
      "cell_type": "code",
      "source": [
        "d=np.expand_dims(c,axis=0)\n",
        "print(type(d))\n",
        "print(d)\n",
        "print(d.shape)\n",
        "print(d.size)\n",
        "print(len(d))"
      ],
      "metadata": {
        "colab": {
          "base_uri": "https://localhost:8080/"
        },
        "id": "RQAmw7PeFA17",
        "outputId": "a19ae0bc-daee-4220-c366-571a8e4f06b5"
      },
      "execution_count": 51,
      "outputs": [
        {
          "output_type": "stream",
          "name": "stdout",
          "text": [
            "<class 'numpy.ndarray'>\n",
            "[[[1 2 3]]]\n",
            "(1, 1, 3)\n",
            "3\n",
            "1\n"
          ]
        }
      ]
    },
    {
      "cell_type": "code",
      "source": [
        "b.T"
      ],
      "metadata": {
        "colab": {
          "base_uri": "https://localhost:8080/"
        },
        "id": "30eIKGrKFfk2",
        "outputId": "f3843964-973a-4fb5-fe5e-8a3fcdc9b394"
      },
      "execution_count": 52,
      "outputs": [
        {
          "output_type": "execute_result",
          "data": {
            "text/plain": [
              "array([1, 2, 3])"
            ]
          },
          "metadata": {},
          "execution_count": 52
        }
      ]
    },
    {
      "cell_type": "code",
      "source": [
        "np.transpose(b)"
      ],
      "metadata": {
        "colab": {
          "base_uri": "https://localhost:8080/"
        },
        "id": "cAk1_b9fnLBs",
        "outputId": "b12538df-746a-45e6-a67f-a9107b6242ec"
      },
      "execution_count": 53,
      "outputs": [
        {
          "output_type": "execute_result",
          "data": {
            "text/plain": [
              "array([1, 2, 3])"
            ]
          },
          "metadata": {},
          "execution_count": 53
        }
      ]
    },
    {
      "cell_type": "code",
      "source": [
        "c.T"
      ],
      "metadata": {
        "colab": {
          "base_uri": "https://localhost:8080/"
        },
        "id": "wm-m95TwHp-t",
        "outputId": "5bdc5646-9ceb-4d22-c9a6-ad4bb497ece2"
      },
      "execution_count": 28,
      "outputs": [
        {
          "output_type": "execute_result",
          "data": {
            "text/plain": [
              "array([[1],\n",
              "       [2],\n",
              "       [3]])"
            ]
          },
          "metadata": {},
          "execution_count": 28
        }
      ]
    },
    {
      "cell_type": "code",
      "source": [
        "d"
      ],
      "metadata": {
        "colab": {
          "base_uri": "https://localhost:8080/"
        },
        "id": "F7PqgY9-HuMo",
        "outputId": "7308bf90-5102-4cc7-e28f-fc0b66231cac"
      },
      "execution_count": 54,
      "outputs": [
        {
          "output_type": "execute_result",
          "data": {
            "text/plain": [
              "array([[[1, 2, 3]]])"
            ]
          },
          "metadata": {},
          "execution_count": 54
        }
      ]
    },
    {
      "cell_type": "code",
      "source": [
        "d.T"
      ],
      "metadata": {
        "colab": {
          "base_uri": "https://localhost:8080/"
        },
        "id": "Rt0LsKfbnb6u",
        "outputId": "c25b5bec-05be-4ed0-c7c5-13345fbccc1f"
      },
      "execution_count": 55,
      "outputs": [
        {
          "output_type": "execute_result",
          "data": {
            "text/plain": [
              "array([[[1]],\n",
              "\n",
              "       [[2]],\n",
              "\n",
              "       [[3]]])"
            ]
          },
          "metadata": {},
          "execution_count": 55
        }
      ]
    },
    {
      "cell_type": "code",
      "source": [
        "e=[1,2,3]\n",
        "s=[2,3,4]\n",
        "n=np.dot(e,s)\n",
        "print(n, type(n))"
      ],
      "metadata": {
        "colab": {
          "base_uri": "https://localhost:8080/"
        },
        "id": "c6MB03lZHw0F",
        "outputId": "6534badf-30d5-4446-89d4-701defeeac05"
      },
      "execution_count": 56,
      "outputs": [
        {
          "output_type": "stream",
          "name": "stdout",
          "text": [
            "20 <class 'numpy.int64'>\n"
          ]
        }
      ]
    },
    {
      "cell_type": "code",
      "source": [
        "\n",
        "m=np.dot(np.array([e]),np.array([s]).T)\n",
        "print(m, type(m)) #returned a matrix containing a single value."
      ],
      "metadata": {
        "colab": {
          "base_uri": "https://localhost:8080/"
        },
        "id": "1XrYjw87IDja",
        "outputId": "8614a63e-be5d-4fa5-b766-42ce0a6eb877"
      },
      "execution_count": 35,
      "outputs": [
        {
          "output_type": "stream",
          "name": "stdout",
          "text": [
            "[[20]] <class 'numpy.ndarray'>\n"
          ]
        }
      ]
    },
    {
      "cell_type": "markdown",
      "source": [
        "###**A Layer of Neurons & Batch of Data w/ NumPy**"
      ],
      "metadata": {
        "id": "XUzyQsjaJE6I"
      }
    },
    {
      "cell_type": "markdown",
      "source": [
        "x+y+z  ,a+y+b,z+w+p\n",
        "\n",
        "xyzabwp"
      ],
      "metadata": {
        "id": "zCKzai21oRqM"
      }
    },
    {
      "cell_type": "code",
      "source": [
        "inputs=[[1,2,3],[4,2,6],[3,8,9],[3,8,9],[4,2,6]] #x,y,x..etc \n",
        "weights=[[1,2,3]]#,[4,5,6],[7,8,9]]\n",
        "bias=[1,2,3]"
      ],
      "metadata": {
        "id": "cT-V84GbIXjc"
      },
      "execution_count": 76,
      "outputs": []
    },
    {
      "cell_type": "code",
      "source": [
        "type(inputs)"
      ],
      "metadata": {
        "colab": {
          "base_uri": "https://localhost:8080/"
        },
        "id": "fG3z0tZ1mUre",
        "outputId": "4647bdd9-e99c-43bd-9f44-6d67c239b0a7"
      },
      "execution_count": 73,
      "outputs": [
        {
          "output_type": "execute_result",
          "data": {
            "text/plain": [
              "list"
            ]
          },
          "metadata": {},
          "execution_count": 73
        }
      ]
    },
    {
      "cell_type": "code",
      "source": [
        "len(inputs)"
      ],
      "metadata": {
        "colab": {
          "base_uri": "https://localhost:8080/"
        },
        "id": "Hy4iX3YFmYnr",
        "outputId": "cca0f00a-72e0-42ab-8eee-fcb198f7a481"
      },
      "execution_count": 69,
      "outputs": [
        {
          "output_type": "execute_result",
          "data": {
            "text/plain": [
              "4"
            ]
          },
          "metadata": {},
          "execution_count": 69
        }
      ]
    },
    {
      "cell_type": "code",
      "source": [],
      "metadata": {
        "id": "eN6b9ZCnpelJ"
      },
      "execution_count": 69,
      "outputs": []
    },
    {
      "cell_type": "code",
      "source": [
        "output=np.dot(inputs,np.transpose(weights))+bias"
      ],
      "metadata": {
        "id": "QesZzuOnfir7"
      },
      "execution_count": 77,
      "outputs": []
    },
    {
      "cell_type": "code",
      "source": [
        "output"
      ],
      "metadata": {
        "colab": {
          "base_uri": "https://localhost:8080/"
        },
        "id": "FALPHOm-fvkl",
        "outputId": "89900b91-7045-4b26-8457-e8432a831e2b"
      },
      "execution_count": 78,
      "outputs": [
        {
          "output_type": "execute_result",
          "data": {
            "text/plain": [
              "array([[15, 16, 17],\n",
              "       [27, 28, 29],\n",
              "       [47, 48, 49],\n",
              "       [47, 48, 49],\n",
              "       [27, 28, 29]])"
            ]
          },
          "metadata": {},
          "execution_count": 78
        }
      ]
    },
    {
      "cell_type": "code",
      "source": [
        "type(output)"
      ],
      "metadata": {
        "colab": {
          "base_uri": "https://localhost:8080/"
        },
        "id": "o1k0xofnf6bw",
        "outputId": "9a4d7844-930c-411d-8bd4-1921d530160e"
      },
      "execution_count": 46,
      "outputs": [
        {
          "output_type": "execute_result",
          "data": {
            "text/plain": [
              "numpy.ndarray"
            ]
          },
          "metadata": {},
          "execution_count": 46
        }
      ]
    },
    {
      "cell_type": "code",
      "source": [
        "type(inputs)"
      ],
      "metadata": {
        "colab": {
          "base_uri": "https://localhost:8080/"
        },
        "id": "SrHoK4RCf9uC",
        "outputId": "b814c402-906f-4b80-fa62-980f0792cb57"
      },
      "execution_count": 47,
      "outputs": [
        {
          "output_type": "execute_result",
          "data": {
            "text/plain": [
              "list"
            ]
          },
          "metadata": {},
          "execution_count": 47
        }
      ]
    },
    {
      "cell_type": "code",
      "source": [],
      "metadata": {
        "id": "sJpPbTH_gApw"
      },
      "execution_count": null,
      "outputs": []
    }
  ]
}